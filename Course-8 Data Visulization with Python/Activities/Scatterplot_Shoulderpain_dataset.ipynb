{
  "nbformat": 4,
  "nbformat_minor": 0,
  "metadata": {
    "colab": {
      "provenance": []
    },
    "kernelspec": {
      "name": "python3",
      "display_name": "Python 3"
    },
    "language_info": {
      "name": "python"
    }
  },
  "cells": [
    {
      "cell_type": "markdown",
      "source": [
        "# Shoulder pain dataset - Scatterplot"
      ],
      "metadata": {
        "id": "iLGUISrtbSIr"
      }
    },
    {
      "cell_type": "markdown",
      "source": [
        "\n",
        "\n",
        "#### Background story of the dataset :\n",
        "\n",
        "\n",
        "In laparoscopic gallbladder surgery, carbon dioxide gas is forced into the \n",
        "abdomen to separate the organs and improve visibility and access to the \n",
        "gallbladder.  One side-effect of this is to separate the liver from the \n",
        "diaphragm, where it is usually supported in part by surface tension.  The \n",
        "resulting strain on the tissues attaching the two causes pain that is felt \n",
        "in the shoulder (`referred pain').  This can be more severe than the \n",
        "pain from the (relatively minor) surgical incisions.\n",
        "\n",
        "A randomised trial explored using suction to drain out the carbon dioxide \n",
        "gas.  Pain in the shoulder, at the incision, and over the abdomen was \n",
        "assessed twice daily for three days by a questionnaire.  There was no sign \n",
        "of any difference in wound or abdominal pain.  You have data on shoulder \n",
        "pain, which has been recoded to a 0-4 scale, where 0 is no pain, and 4 is \n",
        "the most severe category reported.  The goal is to assess the \n",
        "effectiveness of this intervention.\n",
        "\n",
        "The variables are\n",
        "\n",
        "id:  a patient identifier\n",
        "\n",
        "trt:  1 is post-operative suction, 2 is control\n",
        "\n",
        "sex: 1 is male, 2 is female\n",
        "\n",
        "age: in years\n",
        "\n",
        "pain: 0-4 scale\n",
        "\n",
        "time: 1 is the first, 6 is the last measurement on each person\n"
      ],
      "metadata": {
        "id": "e46oKzE1V5ZZ"
      }
    },
    {
      "cell_type": "code",
      "source": [
        "import pandas as pd\n",
        "import matplotlib.pyplot as plt\n",
        "\n",
        "url = 'http://courses.washington.edu/b517/Datasets/shoulder.csv'\n",
        "df = pd.read_csv(url)\n",
        "df\n"
      ],
      "metadata": {
        "colab": {
          "base_uri": "https://localhost:8080/",
          "height": 424
        },
        "id": "yWqjX8oaVGv8",
        "outputId": "5450c2b6-f801-443f-bdfa-1bbc225fec4c"
      },
      "execution_count": 6,
      "outputs": [
        {
          "output_type": "execute_result",
          "data": {
            "text/plain": [
              "      id  trt  sex  age  pain  time\n",
              "0    101    1    2   64     0     1\n",
              "1    101    1    2   64     0     2\n",
              "2    101    1    2   64     0     3\n",
              "3    101    1    2   64     0     4\n",
              "4    101    1    2   64     0     5\n",
              "..   ...  ...  ...  ...   ...   ...\n",
              "241  219    2    1   61     2     2\n",
              "242  219    2    1   61     2     3\n",
              "243  219    2    1   61     2     4\n",
              "244  219    2    1   61     1     5\n",
              "245  219    2    1   61     0     6\n",
              "\n",
              "[246 rows x 6 columns]"
            ],
            "text/html": [
              "\n",
              "  <div id=\"df-d24f2278-4138-4a8e-9772-19f9519de155\">\n",
              "    <div class=\"colab-df-container\">\n",
              "      <div>\n",
              "<style scoped>\n",
              "    .dataframe tbody tr th:only-of-type {\n",
              "        vertical-align: middle;\n",
              "    }\n",
              "\n",
              "    .dataframe tbody tr th {\n",
              "        vertical-align: top;\n",
              "    }\n",
              "\n",
              "    .dataframe thead th {\n",
              "        text-align: right;\n",
              "    }\n",
              "</style>\n",
              "<table border=\"1\" class=\"dataframe\">\n",
              "  <thead>\n",
              "    <tr style=\"text-align: right;\">\n",
              "      <th></th>\n",
              "      <th>id</th>\n",
              "      <th>trt</th>\n",
              "      <th>sex</th>\n",
              "      <th>age</th>\n",
              "      <th>pain</th>\n",
              "      <th>time</th>\n",
              "    </tr>\n",
              "  </thead>\n",
              "  <tbody>\n",
              "    <tr>\n",
              "      <th>0</th>\n",
              "      <td>101</td>\n",
              "      <td>1</td>\n",
              "      <td>2</td>\n",
              "      <td>64</td>\n",
              "      <td>0</td>\n",
              "      <td>1</td>\n",
              "    </tr>\n",
              "    <tr>\n",
              "      <th>1</th>\n",
              "      <td>101</td>\n",
              "      <td>1</td>\n",
              "      <td>2</td>\n",
              "      <td>64</td>\n",
              "      <td>0</td>\n",
              "      <td>2</td>\n",
              "    </tr>\n",
              "    <tr>\n",
              "      <th>2</th>\n",
              "      <td>101</td>\n",
              "      <td>1</td>\n",
              "      <td>2</td>\n",
              "      <td>64</td>\n",
              "      <td>0</td>\n",
              "      <td>3</td>\n",
              "    </tr>\n",
              "    <tr>\n",
              "      <th>3</th>\n",
              "      <td>101</td>\n",
              "      <td>1</td>\n",
              "      <td>2</td>\n",
              "      <td>64</td>\n",
              "      <td>0</td>\n",
              "      <td>4</td>\n",
              "    </tr>\n",
              "    <tr>\n",
              "      <th>4</th>\n",
              "      <td>101</td>\n",
              "      <td>1</td>\n",
              "      <td>2</td>\n",
              "      <td>64</td>\n",
              "      <td>0</td>\n",
              "      <td>5</td>\n",
              "    </tr>\n",
              "    <tr>\n",
              "      <th>...</th>\n",
              "      <td>...</td>\n",
              "      <td>...</td>\n",
              "      <td>...</td>\n",
              "      <td>...</td>\n",
              "      <td>...</td>\n",
              "      <td>...</td>\n",
              "    </tr>\n",
              "    <tr>\n",
              "      <th>241</th>\n",
              "      <td>219</td>\n",
              "      <td>2</td>\n",
              "      <td>1</td>\n",
              "      <td>61</td>\n",
              "      <td>2</td>\n",
              "      <td>2</td>\n",
              "    </tr>\n",
              "    <tr>\n",
              "      <th>242</th>\n",
              "      <td>219</td>\n",
              "      <td>2</td>\n",
              "      <td>1</td>\n",
              "      <td>61</td>\n",
              "      <td>2</td>\n",
              "      <td>3</td>\n",
              "    </tr>\n",
              "    <tr>\n",
              "      <th>243</th>\n",
              "      <td>219</td>\n",
              "      <td>2</td>\n",
              "      <td>1</td>\n",
              "      <td>61</td>\n",
              "      <td>2</td>\n",
              "      <td>4</td>\n",
              "    </tr>\n",
              "    <tr>\n",
              "      <th>244</th>\n",
              "      <td>219</td>\n",
              "      <td>2</td>\n",
              "      <td>1</td>\n",
              "      <td>61</td>\n",
              "      <td>1</td>\n",
              "      <td>5</td>\n",
              "    </tr>\n",
              "    <tr>\n",
              "      <th>245</th>\n",
              "      <td>219</td>\n",
              "      <td>2</td>\n",
              "      <td>1</td>\n",
              "      <td>61</td>\n",
              "      <td>0</td>\n",
              "      <td>6</td>\n",
              "    </tr>\n",
              "  </tbody>\n",
              "</table>\n",
              "<p>246 rows × 6 columns</p>\n",
              "</div>\n",
              "      <button class=\"colab-df-convert\" onclick=\"convertToInteractive('df-d24f2278-4138-4a8e-9772-19f9519de155')\"\n",
              "              title=\"Convert this dataframe to an interactive table.\"\n",
              "              style=\"display:none;\">\n",
              "        \n",
              "  <svg xmlns=\"http://www.w3.org/2000/svg\" height=\"24px\"viewBox=\"0 0 24 24\"\n",
              "       width=\"24px\">\n",
              "    <path d=\"M0 0h24v24H0V0z\" fill=\"none\"/>\n",
              "    <path d=\"M18.56 5.44l.94 2.06.94-2.06 2.06-.94-2.06-.94-.94-2.06-.94 2.06-2.06.94zm-11 1L8.5 8.5l.94-2.06 2.06-.94-2.06-.94L8.5 2.5l-.94 2.06-2.06.94zm10 10l.94 2.06.94-2.06 2.06-.94-2.06-.94-.94-2.06-.94 2.06-2.06.94z\"/><path d=\"M17.41 7.96l-1.37-1.37c-.4-.4-.92-.59-1.43-.59-.52 0-1.04.2-1.43.59L10.3 9.45l-7.72 7.72c-.78.78-.78 2.05 0 2.83L4 21.41c.39.39.9.59 1.41.59.51 0 1.02-.2 1.41-.59l7.78-7.78 2.81-2.81c.8-.78.8-2.07 0-2.86zM5.41 20L4 18.59l7.72-7.72 1.47 1.35L5.41 20z\"/>\n",
              "  </svg>\n",
              "      </button>\n",
              "      \n",
              "  <style>\n",
              "    .colab-df-container {\n",
              "      display:flex;\n",
              "      flex-wrap:wrap;\n",
              "      gap: 12px;\n",
              "    }\n",
              "\n",
              "    .colab-df-convert {\n",
              "      background-color: #E8F0FE;\n",
              "      border: none;\n",
              "      border-radius: 50%;\n",
              "      cursor: pointer;\n",
              "      display: none;\n",
              "      fill: #1967D2;\n",
              "      height: 32px;\n",
              "      padding: 0 0 0 0;\n",
              "      width: 32px;\n",
              "    }\n",
              "\n",
              "    .colab-df-convert:hover {\n",
              "      background-color: #E2EBFA;\n",
              "      box-shadow: 0px 1px 2px rgba(60, 64, 67, 0.3), 0px 1px 3px 1px rgba(60, 64, 67, 0.15);\n",
              "      fill: #174EA6;\n",
              "    }\n",
              "\n",
              "    [theme=dark] .colab-df-convert {\n",
              "      background-color: #3B4455;\n",
              "      fill: #D2E3FC;\n",
              "    }\n",
              "\n",
              "    [theme=dark] .colab-df-convert:hover {\n",
              "      background-color: #434B5C;\n",
              "      box-shadow: 0px 1px 3px 1px rgba(0, 0, 0, 0.15);\n",
              "      filter: drop-shadow(0px 1px 2px rgba(0, 0, 0, 0.3));\n",
              "      fill: #FFFFFF;\n",
              "    }\n",
              "  </style>\n",
              "\n",
              "      <script>\n",
              "        const buttonEl =\n",
              "          document.querySelector('#df-d24f2278-4138-4a8e-9772-19f9519de155 button.colab-df-convert');\n",
              "        buttonEl.style.display =\n",
              "          google.colab.kernel.accessAllowed ? 'block' : 'none';\n",
              "\n",
              "        async function convertToInteractive(key) {\n",
              "          const element = document.querySelector('#df-d24f2278-4138-4a8e-9772-19f9519de155');\n",
              "          const dataTable =\n",
              "            await google.colab.kernel.invokeFunction('convertToInteractive',\n",
              "                                                     [key], {});\n",
              "          if (!dataTable) return;\n",
              "\n",
              "          const docLinkHtml = 'Like what you see? Visit the ' +\n",
              "            '<a target=\"_blank\" href=https://colab.research.google.com/notebooks/data_table.ipynb>data table notebook</a>'\n",
              "            + ' to learn more about interactive tables.';\n",
              "          element.innerHTML = '';\n",
              "          dataTable['output_type'] = 'display_data';\n",
              "          await google.colab.output.renderOutput(dataTable, element);\n",
              "          const docLink = document.createElement('div');\n",
              "          docLink.innerHTML = docLinkHtml;\n",
              "          element.appendChild(docLink);\n",
              "        }\n",
              "      </script>\n",
              "    </div>\n",
              "  </div>\n",
              "  "
            ]
          },
          "metadata": {},
          "execution_count": 6
        }
      ]
    },
    {
      "cell_type": "code",
      "source": [
        "#Check the shape of data\n",
        "df.shape"
      ],
      "metadata": {
        "colab": {
          "base_uri": "https://localhost:8080/"
        },
        "id": "3kml5tcKWnuI",
        "outputId": "1aaa67b3-065e-432c-c434-f4f5dd584217"
      },
      "execution_count": 7,
      "outputs": [
        {
          "output_type": "execute_result",
          "data": {
            "text/plain": [
              "(246, 6)"
            ]
          },
          "metadata": {},
          "execution_count": 7
        }
      ]
    },
    {
      "cell_type": "code",
      "source": [
        "#Check if there is any null values\n",
        "df.isnull().sum()"
      ],
      "metadata": {
        "colab": {
          "base_uri": "https://localhost:8080/"
        },
        "id": "Ri059kKTXErY",
        "outputId": "188b8697-774b-4052-8c51-68edb9201a34"
      },
      "execution_count": 8,
      "outputs": [
        {
          "output_type": "execute_result",
          "data": {
            "text/plain": [
              "id      0\n",
              "trt     0\n",
              "sex     0\n",
              "age     0\n",
              "pain    0\n",
              "time    0\n",
              "dtype: int64"
            ]
          },
          "metadata": {},
          "execution_count": 8
        }
      ]
    },
    {
      "cell_type": "code",
      "source": [
        "#Check the datatypes\n",
        "df.dtypes"
      ],
      "metadata": {
        "colab": {
          "base_uri": "https://localhost:8080/"
        },
        "id": "8EbudCVqXIZ3",
        "outputId": "29cc43bd-921e-4ce6-b8c8-0ef5cae8c5c2"
      },
      "execution_count": 9,
      "outputs": [
        {
          "output_type": "execute_result",
          "data": {
            "text/plain": [
              "id      int64\n",
              "trt     int64\n",
              "sex     int64\n",
              "age     int64\n",
              "pain    int64\n",
              "time    int64\n",
              "dtype: object"
            ]
          },
          "metadata": {},
          "execution_count": 9
        }
      ]
    },
    {
      "cell_type": "markdown",
      "source": [
        "#### What is the use case of your plot?"
      ],
      "metadata": {
        "id": "lwzp-Ft1Y6tB"
      }
    },
    {
      "cell_type": "markdown",
      "source": [
        "Our group is assigned for Scatter plot :"
      ],
      "metadata": {
        "id": "W5jHbdTpa4uT"
      }
    },
    {
      "cell_type": "markdown",
      "source": [
        "One common use case for a scatterplot is to identify the correlation or association between two variables. For example, a scatterplot could be used to show the relationship between a person's age and their income."
      ],
      "metadata": {
        "id": "IKaDUKeFad_U"
      }
    },
    {
      "cell_type": "markdown",
      "source": [
        "#### What insight can be derived from this form of the chart?\n"
      ],
      "metadata": {
        "id": "SPPz0K0Patv8"
      }
    },
    {
      "cell_type": "markdown",
      "source": [
        "We decided to find out whether age is associated with shoulder pain after the bladder surgery or not?"
      ],
      "metadata": {
        "id": "V6BXPwJNY_vX"
      }
    },
    {
      "cell_type": "code",
      "source": [
        "plt.scatter(df['pain'], df['age'])\n",
        "plt.xlabel('Pain')\n",
        "plt.ylabel('Age')\n",
        "plt.show()"
      ],
      "metadata": {
        "colab": {
          "base_uri": "https://localhost:8080/",
          "height": 449
        },
        "id": "vxtzxMCxVm0R",
        "outputId": "f65910d5-0713-4d6c-f070-45f9b2c677fa"
      },
      "execution_count": 16,
      "outputs": [
        {
          "output_type": "display_data",
          "data": {
            "text/plain": [
              "<Figure size 640x480 with 1 Axes>"
            ],
            "image/png": "[encoded data removed]"
          },
          "metadata": {}
        }
      ]
    },
    {
      "cell_type": "markdown",
      "source": [
        "The scatter plot shows the relationship between two variables - ‘pain’ and ‘age’. The x-axis represents the ‘pain’ column which ranges from 0 to 4 and the y-axis represents the ‘age’ column."
      ],
      "metadata": {
        "id": "Mai82NYKeJgV"
      }
    },
    {
      "cell_type": "markdown",
      "source": [
        "The scatter plot shows that there is no clear correlation between age and pain. However, there are more data points for pain levels between 0 and 2 for all age groups. This suggests that people with shoulder pain are more likely to have pain levels between 0 and 2 regardless of their age. "
      ],
      "metadata": {
        "id": "R56V6dXkf_2Z"
      }
    }
  ]
}