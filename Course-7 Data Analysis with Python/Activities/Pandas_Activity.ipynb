{
  "nbformat": 4,
  "nbformat_minor": 0,
  "metadata": {
    "colab": {
      "provenance": []
    },
    "kernelspec": {
      "name": "python3",
      "display_name": "Python 3"
    },
    "language_info": {
      "name": "python"
    }
  },
  "cells": [
    {
      "cell_type": "markdown",
      "source": [
        "Consider the following dataframe and do as directed:\n",
        "\n",
        "\n",
        "import pandas as pd\n",
        "\n",
        "d={‘Mouse’:[150,200,300,400],\n",
        "   ‘Keyboard’:[180,200,190,300],\n",
        "   ‘Scanner’:[200,280,330,450]}\n",
        "   \n",
        "df=pd.DataFrame(d.index=[‘Jan’,’Feb’,’March’,’April’])\n"
      ],
      "metadata": {
        "id": "sgmG2pannPbn"
      }
    },
    {
      "cell_type": "code",
      "source": [
        "import pandas as pd \n",
        "d = {'Mouse':[150,200,300,400], 'Keyboard':[180,200,190,300], 'Scanner':[200,280,330,450]} \n",
        "df = pd.DataFrame(d, index=['Jan', 'Feb', 'March', 'April'])\n",
        "df"
      ],
      "metadata": {
        "colab": {
          "base_uri": "https://localhost:8080/",
          "height": 175
        },
        "id": "J1aGNmjlms-i",
        "outputId": "07c920df-17c7-4c09-97bc-3c6e3646e10b"
      },
      "execution_count": 19,
      "outputs": [
        {
          "output_type": "execute_result",
          "data": {
            "text/plain": [
              "       Mouse  Keyboard  Scanner\n",
              "Jan      150       180      200\n",
              "Feb      200       200      280\n",
              "March    300       190      330\n",
              "April    400       300      450"
            ],
            "text/html": [
              "\n",
              "  <div id=\"df-020f3457-9f75-49fe-bfc6-aafd3d0b8a4e\">\n",
              "    <div class=\"colab-df-container\">\n",
              "      <div>\n",
              "<style scoped>\n",
              "    .dataframe tbody tr th:only-of-type {\n",
              "        vertical-align: middle;\n",
              "    }\n",
              "\n",
              "    .dataframe tbody tr th {\n",
              "        vertical-align: top;\n",
              "    }\n",
              "\n",
              "    .dataframe thead th {\n",
              "        text-align: right;\n",
              "    }\n",
              "</style>\n",
              "<table border=\"1\" class=\"dataframe\">\n",
              "  <thead>\n",
              "    <tr style=\"text-align: right;\">\n",
              "      <th></th>\n",
              "      <th>Mouse</th>\n",
              "      <th>Keyboard</th>\n",
              "      <th>Scanner</th>\n",
              "    </tr>\n",
              "  </thead>\n",
              "  <tbody>\n",
              "    <tr>\n",
              "      <th>Jan</th>\n",
              "      <td>150</td>\n",
              "      <td>180</td>\n",
              "      <td>200</td>\n",
              "    </tr>\n",
              "    <tr>\n",
              "      <th>Feb</th>\n",
              "      <td>200</td>\n",
              "      <td>200</td>\n",
              "      <td>280</td>\n",
              "    </tr>\n",
              "    <tr>\n",
              "      <th>March</th>\n",
              "      <td>300</td>\n",
              "      <td>190</td>\n",
              "      <td>330</td>\n",
              "    </tr>\n",
              "    <tr>\n",
              "      <th>April</th>\n",
              "      <td>400</td>\n",
              "      <td>300</td>\n",
              "      <td>450</td>\n",
              "    </tr>\n",
              "  </tbody>\n",
              "</table>\n",
              "</div>\n",
              "      <button class=\"colab-df-convert\" onclick=\"convertToInteractive('df-020f3457-9f75-49fe-bfc6-aafd3d0b8a4e')\"\n",
              "              title=\"Convert this dataframe to an interactive table.\"\n",
              "              style=\"display:none;\">\n",
              "        \n",
              "  <svg xmlns=\"http://www.w3.org/2000/svg\" height=\"24px\"viewBox=\"0 0 24 24\"\n",
              "       width=\"24px\">\n",
              "    <path d=\"M0 0h24v24H0V0z\" fill=\"none\"/>\n",
              "    <path d=\"M18.56 5.44l.94 2.06.94-2.06 2.06-.94-2.06-.94-.94-2.06-.94 2.06-2.06.94zm-11 1L8.5 8.5l.94-2.06 2.06-.94-2.06-.94L8.5 2.5l-.94 2.06-2.06.94zm10 10l.94 2.06.94-2.06 2.06-.94-2.06-.94-.94-2.06-.94 2.06-2.06.94z\"/><path d=\"M17.41 7.96l-1.37-1.37c-.4-.4-.92-.59-1.43-.59-.52 0-1.04.2-1.43.59L10.3 9.45l-7.72 7.72c-.78.78-.78 2.05 0 2.83L4 21.41c.39.39.9.59 1.41.59.51 0 1.02-.2 1.41-.59l7.78-7.78 2.81-2.81c.8-.78.8-2.07 0-2.86zM5.41 20L4 18.59l7.72-7.72 1.47 1.35L5.41 20z\"/>\n",
              "  </svg>\n",
              "      </button>\n",
              "      \n",
              "  <style>\n",
              "    .colab-df-container {\n",
              "      display:flex;\n",
              "      flex-wrap:wrap;\n",
              "      gap: 12px;\n",
              "    }\n",
              "\n",
              "    .colab-df-convert {\n",
              "      background-color: #E8F0FE;\n",
              "      border: none;\n",
              "      border-radius: 50%;\n",
              "      cursor: pointer;\n",
              "      display: none;\n",
              "      fill: #1967D2;\n",
              "      height: 32px;\n",
              "      padding: 0 0 0 0;\n",
              "      width: 32px;\n",
              "    }\n",
              "\n",
              "    .colab-df-convert:hover {\n",
              "      background-color: #E2EBFA;\n",
              "      box-shadow: 0px 1px 2px rgba(60, 64, 67, 0.3), 0px 1px 3px 1px rgba(60, 64, 67, 0.15);\n",
              "      fill: #174EA6;\n",
              "    }\n",
              "\n",
              "    [theme=dark] .colab-df-convert {\n",
              "      background-color: #3B4455;\n",
              "      fill: #D2E3FC;\n",
              "    }\n",
              "\n",
              "    [theme=dark] .colab-df-convert:hover {\n",
              "      background-color: #434B5C;\n",
              "      box-shadow: 0px 1px 3px 1px rgba(0, 0, 0, 0.15);\n",
              "      filter: drop-shadow(0px 1px 2px rgba(0, 0, 0, 0.3));\n",
              "      fill: #FFFFFF;\n",
              "    }\n",
              "  </style>\n",
              "\n",
              "      <script>\n",
              "        const buttonEl =\n",
              "          document.querySelector('#df-020f3457-9f75-49fe-bfc6-aafd3d0b8a4e button.colab-df-convert');\n",
              "        buttonEl.style.display =\n",
              "          google.colab.kernel.accessAllowed ? 'block' : 'none';\n",
              "\n",
              "        async function convertToInteractive(key) {\n",
              "          const element = document.querySelector('#df-020f3457-9f75-49fe-bfc6-aafd3d0b8a4e');\n",
              "          const dataTable =\n",
              "            await google.colab.kernel.invokeFunction('convertToInteractive',\n",
              "                                                     [key], {});\n",
              "          if (!dataTable) return;\n",
              "\n",
              "          const docLinkHtml = 'Like what you see? Visit the ' +\n",
              "            '<a target=\"_blank\" href=https://colab.research.google.com/notebooks/data_table.ipynb>data table notebook</a>'\n",
              "            + ' to learn more about interactive tables.';\n",
              "          element.innerHTML = '';\n",
              "          dataTable['output_type'] = 'display_data';\n",
              "          await google.colab.output.renderOutput(dataTable, element);\n",
              "          const docLink = document.createElement('div');\n",
              "          docLink.innerHTML = docLinkHtml;\n",
              "          element.appendChild(docLink);\n",
              "        }\n",
              "      </script>\n",
              "    </div>\n",
              "  </div>\n",
              "  "
            ]
          },
          "metadata": {},
          "execution_count": 19
        }
      ]
    },
    {
      "cell_type": "markdown",
      "source": [
        "#### A. Write code to access data of Mouse and Scanner columns."
      ],
      "metadata": {
        "id": "gjNyyfsSnkyI"
      }
    },
    {
      "cell_type": "code",
      "source": [
        "# Accessing the data of 'Mouse' column\n",
        "mouse_data = df['Mouse']\n",
        "print(mouse_data)\n",
        "\n",
        "# Accessing the data of 'Scanner' column\n",
        "scanner_data = df['Scanner']\n",
        "print(scanner_data)\n"
      ],
      "metadata": {
        "colab": {
          "base_uri": "https://localhost:8080/"
        },
        "id": "fb2UokkTnsCf",
        "outputId": "6c0a2314-3d7b-4de2-8c36-6a4b5aa050f4"
      },
      "execution_count": 13,
      "outputs": [
        {
          "output_type": "stream",
          "name": "stdout",
          "text": [
            "Jan      150\n",
            "Feb      200\n",
            "March    300\n",
            "April    400\n",
            "Name: Mouse, dtype: int64\n",
            "Jan      200\n",
            "Feb      280\n",
            "March    330\n",
            "April    450\n",
            "Name: Scanner, dtype: int64\n"
          ]
        }
      ]
    },
    {
      "cell_type": "markdown",
      "source": [
        "#### B. Write code to access data of the Keyboard column using dot notation and column name.\n"
      ],
      "metadata": {
        "id": "SNP8Cj4JnufY"
      }
    },
    {
      "cell_type": "code",
      "source": [
        "# Accessing the data of 'Keyboard' column using dot notation\n",
        "keyboard_data = df.Keyboard\n",
        "print(keyboard_data)\n"
      ],
      "metadata": {
        "colab": {
          "base_uri": "https://localhost:8080/"
        },
        "id": "xjlINHOvn02P",
        "outputId": "a034094f-5d2d-4efb-86b1-599a4e549995"
      },
      "execution_count": 14,
      "outputs": [
        {
          "output_type": "stream",
          "name": "stdout",
          "text": [
            "Jan      180\n",
            "Feb      200\n",
            "March    190\n",
            "April    300\n",
            "Name: Keyboard, dtype: int64\n"
          ]
        }
      ]
    },
    {
      "cell_type": "markdown",
      "source": [
        "#### C. Write code to access data of scanners using loc[].\n"
      ],
      "metadata": {
        "id": "yvALODATo123"
      }
    },
    {
      "cell_type": "code",
      "source": [
        "# Accessing the data 'Scanner' column using loc[]\n",
        "scanner_data = df.loc[:, 'Scanner']\n",
        "print(scanner_data)\n"
      ],
      "metadata": {
        "colab": {
          "base_uri": "https://localhost:8080/"
        },
        "id": "Z2Mr-GdCo7cv",
        "outputId": "5d63bcce-a2cf-467b-b099-bee3130940a5"
      },
      "execution_count": 15,
      "outputs": [
        {
          "output_type": "stream",
          "name": "stdout",
          "text": [
            "Jan      200\n",
            "Feb      280\n",
            "March    330\n",
            "April    450\n",
            "Name: Scanner, dtype: int64\n"
          ]
        }
      ]
    },
    {
      "cell_type": "markdown",
      "source": [
        "#### D. Write code to access data of all columns where mouse data is more than 200."
      ],
      "metadata": {
        "id": "XHybfevHpWwo"
      }
    },
    {
      "cell_type": "code",
      "source": [
        "# Accessing data of all columns where Mouse data is more than 200\n",
        "data = df.loc[df['Mouse'] > 200, :]\n",
        "print(data)\n"
      ],
      "metadata": {
        "colab": {
          "base_uri": "https://localhost:8080/"
        },
        "id": "SoFIXwMqpW6A",
        "outputId": "bde19e46-087f-4188-daa5-413d6efb15aa"
      },
      "execution_count": 16,
      "outputs": [
        {
          "output_type": "stream",
          "name": "stdout",
          "text": [
            "       Mouse  Keyboard  Scanner\n",
            "March    300       190      330\n",
            "April    400       300      450\n"
          ]
        }
      ]
    },
    {
      "cell_type": "markdown",
      "source": [
        "#### E. Write code to access columns using 0 and 2.\n"
      ],
      "metadata": {
        "id": "UrNvpCuOpXC_"
      }
    },
    {
      "cell_type": "code",
      "source": [
        "# Accessing columns using 0 and 2\n",
        "columns = df.iloc[:, [0, 2]]\n",
        "print(columns)\n"
      ],
      "metadata": {
        "colab": {
          "base_uri": "https://localhost:8080/"
        },
        "id": "PFHxwapspXef",
        "outputId": "f3340943-308f-4584-96fd-f1e9bc8fcca3"
      },
      "execution_count": 17,
      "outputs": [
        {
          "output_type": "stream",
          "name": "stdout",
          "text": [
            "       Mouse  Scanner\n",
            "Jan      150      200\n",
            "Feb      200      280\n",
            "March    300      330\n",
            "April    400      450\n"
          ]
        }
      ]
    },
    {
      "cell_type": "markdown",
      "source": [
        "#### F. Write code to access data of rows of jan and march for scanner and keyboard"
      ],
      "metadata": {
        "id": "L7pZh-KupXVe"
      }
    },
    {
      "cell_type": "code",
      "source": [
        "# Accessing data of rows for Jan and March for Scanner and Keyboard\n",
        "data = df.loc[['Jan', 'March'], ['Scanner', 'Keyboard']]\n",
        "print(data)\n"
      ],
      "metadata": {
        "colab": {
          "base_uri": "https://localhost:8080/"
        },
        "id": "sBMy1CRrpXMP",
        "outputId": "4df83f67-506e-4d36-a420-0d8bdb8377e2"
      },
      "execution_count": 18,
      "outputs": [
        {
          "output_type": "stream",
          "name": "stdout",
          "text": [
            "       Scanner  Keyboard\n",
            "Jan        200       180\n",
            "March      330       190\n"
          ]
        }
      ]
    }
  ]
}