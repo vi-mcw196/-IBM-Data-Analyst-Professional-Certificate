{
  "nbformat": 4,
  "nbformat_minor": 0,
  "metadata": {
    "colab": {
      "provenance": []
    },
    "kernelspec": {
      "name": "python3",
      "display_name": "Python 3"
    },
    "language_info": {
      "name": "python"
    }
  },
  "cells": [
    {
      "cell_type": "markdown",
      "source": [
        "#### Q1 Create a dictionary for all participants in the JDA program.\n",
        "#Keys should be the first letter in their names, Values should be their names.\n",
        "#[Hint] dic={\"l\":(Leul),\"J\":(Jerry,Jainam)........}\n"
      ],
      "metadata": {
        "id": "7ayfhbe_ZMN6"
      }
    },
    {
      "cell_type": "code",
      "source": [
        "Group6_dictionary = {'L': 'Lakshmi Kadali', 'A': 'Angie Zhou', 'P': 'Pallavi Shinde', 'C': 'Chidinma Onyejiuwa', 'J': 'Juhi Shaw', 'O': 'Omid Rahmani', 'T': 'Tanudeep Kaur'}\n",
        "Group6_dictionary"
      ],
      "metadata": {
        "colab": {
          "base_uri": "https://localhost:8080/"
        },
        "id": "HT71iynBbbmJ",
        "outputId": "ffd97193-b11f-45e2-ca91-b1c5afcd869f"
      },
      "execution_count": null,
      "outputs": [
        {
          "output_type": "execute_result",
          "data": {
            "text/plain": [
              "{'L': 'Lakshmi Kadali',\n",
              " 'A': 'Angie Zhou',\n",
              " 'P': 'Pallavi Shinde',\n",
              " 'C': 'Chidinma Onyejiuwa',\n",
              " 'J': 'Juhi Shaw',\n",
              " 'O': 'Omid Rahmani',\n",
              " 'T': 'Tanudeep Kaur'}"
            ]
          },
          "metadata": {},
          "execution_count": 3
        }
      ]
    },
    {
      "cell_type": "markdown",
      "source": [
        "####Q2 What are the keys of your dictionary"
      ],
      "metadata": {
        "id": "kS9ZdfcHa8Tc"
      }
    },
    {
      "cell_type": "code",
      "source": [
        "Group6_keys = Group6_dictionary.keys()\n",
        "Group6_keys"
      ],
      "metadata": {
        "colab": {
          "base_uri": "https://localhost:8080/"
        },
        "id": "Kp4PKLeNa8fa",
        "outputId": "f59766d2-4475-42aa-df21-940df997485a"
      },
      "execution_count": null,
      "outputs": [
        {
          "output_type": "execute_result",
          "data": {
            "text/plain": [
              "dict_keys(['L', 'A', 'P', 'C', 'J', 'O', 'T'])"
            ]
          },
          "metadata": {},
          "execution_count": 5
        }
      ]
    },
    {
      "cell_type": "markdown",
      "source": [
        "#### Q3 What are the values of your dictionary"
      ],
      "metadata": {
        "id": "Blj_XJf_a8qY"
      }
    },
    {
      "cell_type": "code",
      "source": [
        "Group6_values = Group6_dictionary.values()\n",
        "Group6_values"
      ],
      "metadata": {
        "colab": {
          "base_uri": "https://localhost:8080/"
        },
        "id": "jdvvsu_Ya80N",
        "outputId": "25777266-0bc7-4b15-c75b-dc6683bfbf65"
      },
      "execution_count": null,
      "outputs": [
        {
          "output_type": "execute_result",
          "data": {
            "text/plain": [
              "dict_values(['Lakshmi Kadali', 'Angie Zhou', 'Pallavi Shinde', 'Chidinma Onyejiuwa', 'Juhi Shaw', 'Omid Rahmani', 'Tanudeep Kaur'])"
            ]
          },
          "metadata": {},
          "execution_count": 7
        }
      ]
    },
    {
      "cell_type": "markdown",
      "source": [
        "####Q4 Find participant's names that start with J,I,M,C,A\n"
      ],
      "metadata": {
        "id": "e69QIPgBdNOt"
      }
    },
    {
      "cell_type": "code",
      "source": [
        "# Starting letters\n",
        "start_letters = ['J', 'I', 'M', 'C', 'A']\n",
        "\n",
        "# participant names that start with J,I,M,C,A\n",
        "for key, value in Group6_dictionary.items():\n",
        "    if value[0] in start_letters:\n",
        "        print(value)"
      ],
      "metadata": {
        "colab": {
          "base_uri": "https://localhost:8080/"
        },
        "id": "lSEVZiipdNb7",
        "outputId": "5ad9f80c-fa70-4d55-836d-120775690aa6"
      },
      "execution_count": null,
      "outputs": [
        {
          "output_type": "stream",
          "name": "stdout",
          "text": [
            "Angie Zhou\n",
            "Chidinma Onyejiuwa\n",
            "Juhi Shaw\n"
          ]
        }
      ]
    },
    {
      "cell_type": "markdown",
      "source": [
        "####Q5 Add the following to your dictionary\n",
        "####Key<(K,PD)>, Value<(Kristina)>\n"
      ],
      "metadata": {
        "id": "SDPIatPtdNnK"
      }
    },
    {
      "cell_type": "code",
      "source": [
        "Group6_dictionary['K', 'PD'] = 'Kristina'\n",
        "Group6_dictionary"
      ],
      "metadata": {
        "colab": {
          "base_uri": "https://localhost:8080/"
        },
        "id": "2hGA24gLdNyD",
        "outputId": "adc6df98-e648-498e-f48d-cfd0d2ca0dcb"
      },
      "execution_count": null,
      "outputs": [
        {
          "output_type": "execute_result",
          "data": {
            "text/plain": [
              "{'L': 'Lakshmi Kadali',\n",
              " 'A': 'Angie Zhou',\n",
              " 'P': 'Pallavi Shinde',\n",
              " 'C': 'Chidinma Onyejiuwa',\n",
              " 'J': 'Juhi Shaw',\n",
              " 'O': 'Omid Rahmani',\n",
              " 'T': 'Tanudeep Kaur',\n",
              " ('K', 'PD'): 'Kristina'}"
            ]
          },
          "metadata": {},
          "execution_count": 13
        }
      ]
    },
    {
      "cell_type": "markdown",
      "source": [
        "####Q6 Find the length of your dictionary \n"
      ],
      "metadata": {
        "id": "TVebGrj7dN8N"
      }
    },
    {
      "cell_type": "code",
      "source": [
        "length = len(Group6_dictionary)\n",
        "print(\"The length of the dictionary is:\", length)\n"
      ],
      "metadata": {
        "colab": {
          "base_uri": "https://localhost:8080/"
        },
        "id": "1KsgslVidOHl",
        "outputId": "a0403b55-9144-49bd-caa4-03185903ccc1"
      },
      "execution_count": null,
      "outputs": [
        {
          "output_type": "stream",
          "name": "stdout",
          "text": [
            "The length of the dictionary is: 8\n"
          ]
        }
      ]
    },
    {
      "cell_type": "markdown",
      "source": [
        "####Q7 Add the following to your dictionary\n",
        "####Key<(S,Instructor)>, Value<(Sarah)>\n"
      ],
      "metadata": {
        "id": "f5awhY0NgZSQ"
      }
    },
    {
      "cell_type": "code",
      "source": [
        "Group6_dictionary['S', 'Instructor'] = 'Sarah'\n",
        "Group6_dictionary"
      ],
      "metadata": {
        "colab": {
          "base_uri": "https://localhost:8080/"
        },
        "id": "xsAyyr6XgZe9",
        "outputId": "cb044231-2209-4367-ba43-44b1abaa3786"
      },
      "execution_count": null,
      "outputs": [
        {
          "output_type": "execute_result",
          "data": {
            "text/plain": [
              "{'L': 'Lakshmi Kadali',\n",
              " 'A': 'Angie Zhou',\n",
              " 'P': 'Pallavi Shinde',\n",
              " 'C': 'Chidinma Onyejiuwa',\n",
              " 'J': 'Juhi Shaw',\n",
              " 'O': 'Omid Rahmani',\n",
              " 'T': 'Tanudeep Kaur',\n",
              " ('K', 'PD'): 'Kristina',\n",
              " ('S', 'Instructor'): 'Sarah'}"
            ]
          },
          "metadata": {},
          "execution_count": 15
        }
      ]
    },
    {
      "cell_type": "markdown",
      "source": [
        "####Q8 Find the length of your dictionary \n"
      ],
      "metadata": {
        "id": "vXjnwDCmgaBL"
      }
    },
    {
      "cell_type": "code",
      "source": [
        "length1 = len(Group6_dictionary)\n",
        "print(\"The length of the dictionary is:\", length1)"
      ],
      "metadata": {
        "colab": {
          "base_uri": "https://localhost:8080/"
        },
        "id": "I2KgEw_0gaUa",
        "outputId": "54f88cb5-b7a7-4cc4-90c9-247ac68f17e6"
      },
      "execution_count": null,
      "outputs": [
        {
          "output_type": "stream",
          "name": "stdout",
          "text": [
            "The length of the dictionary is: 9\n"
          ]
        }
      ]
    },
    {
      "cell_type": "markdown",
      "source": [
        "####Q7 Delete the following keys from your dictionary\n",
        "####Key<(S,Instructor)>\n",
        "####Key<J>\n"
      ],
      "metadata": {
        "id": "H7DhXgAth9fZ"
      }
    },
    {
      "cell_type": "code",
      "source": [
        "del Group6_dictionary[('S', 'Instructor')]\n",
        "Group6_dictionary"
      ],
      "metadata": {
        "colab": {
          "base_uri": "https://localhost:8080/"
        },
        "id": "4CADOgirh9qf",
        "outputId": "3ad0e308-3f15-496f-d23d-61590211e5df"
      },
      "execution_count": null,
      "outputs": [
        {
          "output_type": "execute_result",
          "data": {
            "text/plain": [
              "{'L': 'Lakshmi Kadali',\n",
              " 'A': 'Angie Zhou',\n",
              " 'P': 'Pallavi Shinde',\n",
              " 'C': 'Chidinma Onyejiuwa',\n",
              " 'J': 'Juhi Shaw',\n",
              " 'O': 'Omid Rahmani',\n",
              " 'T': 'Tanudeep Kaur',\n",
              " ('K', 'PD'): 'Kristina'}"
            ]
          },
          "metadata": {},
          "execution_count": 17
        }
      ]
    },
    {
      "cell_type": "markdown",
      "source": [
        "####Q9 Find the length of your dictionary \n"
      ],
      "metadata": {
        "id": "XTa0zlWPh93w"
      }
    },
    {
      "cell_type": "code",
      "source": [
        "length2 = len(Group6_dictionary)\n",
        "print(\"The length of the dictionary is:\", length2)"
      ],
      "metadata": {
        "colab": {
          "base_uri": "https://localhost:8080/"
        },
        "id": "cknGo6ABh-EQ",
        "outputId": "8db8119f-aa44-48cd-a97f-e0c3128a693b"
      },
      "execution_count": null,
      "outputs": [
        {
          "output_type": "stream",
          "name": "stdout",
          "text": [
            "The length of the dictionary is: 8\n"
          ]
        }
      ]
    },
    {
      "cell_type": "markdown",
      "source": [
        "####Q10 Create a new dictionary called synonyms_dic\n"
      ],
      "metadata": {
        "id": "7-sHwvjOi78u"
      }
    },
    {
      "cell_type": "code",
      "source": [
        "synonyms_dic = {}"
      ],
      "metadata": {
        "id": "IAlEU8Ibi8Gw"
      },
      "execution_count": null,
      "outputs": []
    },
    {
      "cell_type": "markdown",
      "source": [
        "####Q11 Add the synonyms of the following words to your dictionary\n",
        "####Bad, Good, Awesome, Cold, Easy, Hard, Big, Small"
      ],
      "metadata": {
        "id": "_wLsBMJRi8Se"
      }
    },
    {
      "cell_type": "code",
      "source": [
        "synonyms_dic = {'Bad' : 'poor', 'Good' : 'fine', 'Awesome' : 'amazing', 'Cold' : 'chilly', 'Easy' : 'not difficult', 'Hard' : 'difficult','Big' : 'large', 'Small' : 'tiny'}\n",
        "synonyms_dic"
      ],
      "metadata": {
        "colab": {
          "base_uri": "https://localhost:8080/"
        },
        "id": "E-u_IbG2i8c2",
        "outputId": "d3617f5e-5ff0-477d-9a5c-c2880558c0cd"
      },
      "execution_count": null,
      "outputs": [
        {
          "output_type": "execute_result",
          "data": {
            "text/plain": [
              "{'Bad': 'poor',\n",
              " 'Good': 'fine',\n",
              " 'Awesome': 'amazing',\n",
              " 'Cold': 'chilly',\n",
              " 'Easy': 'not difficult',\n",
              " 'Hard': 'difficult',\n",
              " 'Big': 'large',\n",
              " 'Small': 'tiny'}"
            ]
          },
          "metadata": {},
          "execution_count": 24
        }
      ]
    },
    {
      "cell_type": "markdown",
      "source": [
        "####Q12 Use your dictionary to find the synonym of the following words\n",
        "####Awesome, Easy, Small, Old\n"
      ],
      "metadata": {
        "id": "AqByG0c9i8xT"
      }
    },
    {
      "cell_type": "code",
      "source": [
        "awesome_synonym = synonyms_dic['Awesome']\n",
        "easy_synonym = synonyms_dic['Easy']\n",
        "small_synonym = synonyms_dic['Small']\n",
        "old_synonym = None # The dictionary does not contain a synonym for 'Old'\n",
        "\n",
        "print('Awesome synonym:', awesome_synonym)\n",
        "print('Easy synonym:', easy_synonym)\n",
        "print('Small synonym:', small_synonym)\n",
        "print('Old synonym:', old_synonym)\n"
      ],
      "metadata": {
        "colab": {
          "base_uri": "https://localhost:8080/"
        },
        "id": "50H4Ic_bi87E",
        "outputId": "92aa48be-f8c4-447c-c51e-eaa80f620f28"
      },
      "execution_count": null,
      "outputs": [
        {
          "output_type": "stream",
          "name": "stdout",
          "text": [
            "Awesome synonym: amazing\n",
            "Easy synonym: not difficult\n",
            "Small synonym: tiny\n",
            "Old synonym: None\n"
          ]
        }
      ]
    },
    {
      "cell_type": "markdown",
      "source": [
        "####Q13 Delete everything from synonyms_dic"
      ],
      "metadata": {
        "id": "nyiQo-Z8nXVC"
      }
    },
    {
      "cell_type": "code",
      "source": [
        "synonyms_dic.clear()\n",
        "synonyms_dic"
      ],
      "metadata": {
        "colab": {
          "base_uri": "https://localhost:8080/"
        },
        "id": "5OUaNTibnXqP",
        "outputId": "7581aebc-8e31-45d9-e4c2-a1eba061dafa"
      },
      "execution_count": null,
      "outputs": [
        {
          "output_type": "execute_result",
          "data": {
            "text/plain": [
              "{}"
            ]
          },
          "metadata": {},
          "execution_count": 27
        }
      ]
    },
    {
      "cell_type": "markdown",
      "source": [
        "####Q14 Print all values in synonyms_dic"
      ],
      "metadata": {
        "id": "e2lxptSHnX1f"
      }
    },
    {
      "cell_type": "code",
      "source": [
        "synonyms_dic = {'Bad' : 'poor', 'Good' : 'fine', 'Awesome' : 'amazing', 'Cold' : 'chilly', 'Easy' : 'not difficult', 'Hard' : 'difficult','Big' : 'large', 'Small' : 'tiny'}\n",
        "synonyms_dic.values()"
      ],
      "metadata": {
        "colab": {
          "base_uri": "https://localhost:8080/"
        },
        "outputId": "ec602ebf-3992-4fc3-d297-ac93e1f8fd69",
        "id": "GAGKv4fkol2G"
      },
      "execution_count": null,
      "outputs": [
        {
          "output_type": "execute_result",
          "data": {
            "text/plain": [
              "dict_values(['poor', 'fine', 'amazing', 'chilly', 'not difficult', 'difficult', 'large', 'tiny'])"
            ]
          },
          "metadata": {},
          "execution_count": 28
        }
      ]
    },
    {
      "cell_type": "markdown",
      "source": [
        "####Q15 Convert the below two lists into dictionary\n",
        "Keys=[\"True\",\"False\"]\n",
        "\n",
        "Values=[1,0]\n"
      ],
      "metadata": {
        "id": "tUAVybpYoutc"
      }
    },
    {
      "cell_type": "code",
      "source": [
        "Keys = [\"True\", \"False\"]\n",
        "Values = [1, 0]\n",
        "my_dict = dict(zip(Keys, Values))\n",
        "my_dict"
      ],
      "metadata": {
        "colab": {
          "base_uri": "https://localhost:8080/"
        },
        "id": "MryUXh1zou4f",
        "outputId": "96ec354c-164a-465a-b18c-530870f95d59"
      },
      "execution_count": null,
      "outputs": [
        {
          "output_type": "execute_result",
          "data": {
            "text/plain": [
              "{'True': 1, 'False': 0}"
            ]
          },
          "metadata": {},
          "execution_count": 30
        }
      ]
    },
    {
      "cell_type": "markdown",
      "source": [
        "####Q16 Sum all the values in the following dictionary\n",
        "income={'Jan':1000,'Feb':1500,'Mar':980,'April':1000}\n"
      ],
      "metadata": {
        "id": "agLBlvKCov8P"
      }
    },
    {
      "cell_type": "code",
      "source": [
        "income = {'Jan': 1000, 'Feb': 1500, 'Mar': 980, 'April': 1000}\n",
        "\n",
        "total_income = sum(income.values())\n",
        "\n",
        "print(\"Total Income: \", total_income)\n"
      ],
      "metadata": {
        "colab": {
          "base_uri": "https://localhost:8080/"
        },
        "id": "ePeu8LbTnYAX",
        "outputId": "f69c701d-0892-41bc-965f-76d4852b565d"
      },
      "execution_count": null,
      "outputs": [
        {
          "output_type": "stream",
          "name": "stdout",
          "text": [
            "Total Income:  4480\n"
          ]
        }
      ]
    },
    {
      "cell_type": "markdown",
      "source": [
        "####Q17 Create the following dictionary encryption={10:\"hungry\", 101:\"am\", 110:\"I\",1011:\" \" 110:\" \" 1001:\" \" 1:\" \"}\n",
        "####What should be the decryption of the following code \"110 101 10 1011 110 1001 1\"\n"
      ],
      "metadata": {
        "id": "HgHjT8qRp85-"
      }
    },
    {
      "cell_type": "code",
      "source": [
        "#Encrypted string. Thanks to the Instructor for showing 'f strings'\n",
        "#Reference link :  https://realpython.com/python-f-strings/#:~:text=%E2%80%9CF%2Dstrings%20provide%20a%20way,which%20contains%20expressions%20inside%20braces\n",
        "encryption = {10:\"hungry\", 101:\"am\", 110:\"I\", 1011:\" \", 1001:\" \", 1:\" \"}\n",
        "code = \"110 101 10 1011 110 1001 1\"\n",
        "decrypted_message = ''\n",
        "\n",
        "for word in code.split(' '):\n",
        "    decrypted_message = f\"{decrypted_message} {encryption[int(word)]}\"\n",
        "\n",
        "print(decrypted_message)\n",
        "\n",
        "#Better code for encrypted string. \n",
        "encryption = {10:\"hungry\", 101:\"am\", 110:\"I\", 1011:\" \", 1001:\" \", 1:\" \"}\n",
        "code = \"110 1011 101 1001 10\"\n",
        "decrypted_message = ''\n",
        "\n",
        "for word in code.split(' '):\n",
        "    decrypted_message = f\"{decrypted_message} {encryption[int(word)]}\"\n",
        "\n",
        "print(decrypted_message)\n"
      ],
      "metadata": {
        "colab": {
          "base_uri": "https://localhost:8080/"
        },
        "id": "K3Jzlnb4qfgP",
        "outputId": "6d52cb6c-382d-462d-e0f5-5480431a999b"
      },
      "execution_count": null,
      "outputs": [
        {
          "output_type": "stream",
          "name": "stdout",
          "text": [
            " I am hungry   I    \n",
            " I   am   hungry\n"
          ]
        }
      ]
    }
  ]
}