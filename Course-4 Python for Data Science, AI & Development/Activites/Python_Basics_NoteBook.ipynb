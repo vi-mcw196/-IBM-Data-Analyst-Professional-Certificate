{
  "nbformat": 4,
  "nbformat_minor": 0,
  "metadata": {
    "colab": {
      "provenance": []
    },
    "kernelspec": {
      "name": "python3",
      "display_name": "Python 3"
    },
    "language_info": {
      "name": "python"
    }
  },
  "cells": [
    {
      "cell_type": "markdown",
      "source": [
        "#IBM Data Analytics\n",
        "\n",
        "Course 4: Python for Data Science & AI\n"
      ],
      "metadata": {
        "id": "kCoKENyj7kuI"
      }
    },
    {
      "cell_type": "markdown",
      "source": [
        "####Write a Python code to return your Python version\n"
      ],
      "metadata": {
        "id": "8S56eqze-FOF"
      }
    },
    {
      "cell_type": "code",
      "execution_count": 5,
      "metadata": {
        "colab": {
          "base_uri": "https://localhost:8080/"
        },
        "id": "pN3ieiAy7Slt",
        "outputId": "8bc7d98b-f720-4782-afd6-a0c9e8890789"
      },
      "outputs": [
        {
          "output_type": "stream",
          "name": "stdout",
          "text": [
            "Python version\n",
            "3.8.10 (default, Nov 14 2022, 12:59:47) \n",
            "[GCC 9.4.0]\n"
          ]
        }
      ],
      "source": [
        "import sys \n",
        "print(\"Python version\")\n",
        "print(sys. version)"
      ]
    },
    {
      "cell_type": "markdown",
      "source": [
        "####Write a Python code to declare variable id=\"513\". \n",
        "####Print the following statement \"customer id =513\". [Don't use print(\"customer id \n"
      ],
      "metadata": {
        "id": "SNdLhFAUU9Ju"
      }
    },
    {
      "cell_type": "code",
      "source": [
        "customer_id=513\n",
        "display(customer_id)"
      ],
      "metadata": {
        "colab": {
          "base_uri": "https://localhost:8080/",
          "height": 34
        },
        "id": "ALARM-vKWNPs",
        "outputId": "cd432607-8579-4302-e482-0fdfd92ab8a7"
      },
      "execution_count": 9,
      "outputs": [
        {
          "output_type": "display_data",
          "data": {
            "text/plain": [
              "513"
            ]
          },
          "metadata": {}
        }
      ]
    },
    {
      "cell_type": "markdown",
      "source": [
        "####Run the following statement, why there is an error\n",
        "id=id+1\n"
      ],
      "metadata": {
        "id": "q3w2uW0kXjLN"
      }
    },
    {
      "cell_type": "code",
      "source": [
        "id=id+1"
      ],
      "metadata": {
        "colab": {
          "base_uri": "https://localhost:8080/",
          "height": 165
        },
        "id": "fSm9itTCXjYk",
        "outputId": "9c681f7d-9aeb-462d-9aee-1d5b84df40c2"
      },
      "execution_count": 10,
      "outputs": [
        {
          "output_type": "error",
          "ename": "TypeError",
          "evalue": "ignored",
          "traceback": [
            "\u001b[0;31m---------------------------------------------------------------------------\u001b[0m",
            "\u001b[0;31mTypeError\u001b[0m                                 Traceback (most recent call last)",
            "\u001b[0;32m<ipython-input-10-2ca7e9b036da>\u001b[0m in \u001b[0;36m<module>\u001b[0;34m\u001b[0m\n\u001b[0;32m----> 1\u001b[0;31m \u001b[0mid\u001b[0m\u001b[0;34m=\u001b[0m\u001b[0mid\u001b[0m\u001b[0;34m+\u001b[0m\u001b[0;36m1\u001b[0m\u001b[0;34m\u001b[0m\u001b[0;34m\u001b[0m\u001b[0m\n\u001b[0m",
            "\u001b[0;31mTypeError\u001b[0m: unsupported operand type(s) for +: 'builtin_function_or_method' and 'int'"
          ]
        }
      ]
    },
    {
      "cell_type": "markdown",
      "source": [
        "We can not add string to integer"
      ],
      "metadata": {
        "id": "Kn1Uig35YIPC"
      }
    },
    {
      "cell_type": "markdown",
      "source": [
        "####Convert the variable id into an integer, increment it by 1.\n",
        "####Assign the result to variable new_id.\n",
        "####Print the new_id\n"
      ],
      "metadata": {
        "id": "a3BJixyzYXb_"
      }
    },
    {
      "cell_type": "code",
      "source": [
        "id=int(\"513\")\n",
        "id=id+1\n",
        "new_id=id\n",
        "print(new_id)"
      ],
      "metadata": {
        "colab": {
          "base_uri": "https://localhost:8080/"
        },
        "id": "dG3Kiml5YXMR",
        "outputId": "db5a6730-5b36-4b30-c421-567aadf2b990"
      },
      "execution_count": 11,
      "outputs": [
        {
          "output_type": "stream",
          "name": "stdout",
          "text": [
            "514\n"
          ]
        }
      ]
    },
    {
      "cell_type": "markdown",
      "source": [
        "####Write a Python code to print the following string in a specific format (see the \n",
        "####Twinkle, twinkle, little star, \n",
        "####How I wonder what you are! \n",
        "####Up above the world so high, \n",
        "####Like a diamond in the sky."
      ],
      "metadata": {
        "id": "upWqTSgsaFHX"
      }
    },
    {
      "cell_type": "code",
      "source": [
        "print(\"Twinkle, twinkle, little star, \\nHow I wonder what you are! \\nUp above the world so high, \\nLike a diamond in the sky.\")"
      ],
      "metadata": {
        "colab": {
          "base_uri": "https://localhost:8080/"
        },
        "id": "AaH2dtXhaFiZ",
        "outputId": "48df58fb-07d4-48eb-f84c-646b5b20be19"
      },
      "execution_count": 16,
      "outputs": [
        {
          "output_type": "stream",
          "name": "stdout",
          "text": [
            "Twinkle, twinkle, little star, \n",
            "How I wonder what you are! \n",
            "Up above the world so high, \n",
            "Like a diamond in the sky.\n"
          ]
        }
      ]
    },
    {
      "cell_type": "markdown",
      "source": [
        "####Givin the following string variable, \n",
        "####Print the first element in the string\n",
        "course=\"Python for Data Science\""
      ],
      "metadata": {
        "id": "CjLCH-9qaFvJ"
      }
    },
    {
      "cell_type": "code",
      "source": [
        "course = \"Python for Data Science\"\n",
        "print(course[0])\n"
      ],
      "metadata": {
        "colab": {
          "base_uri": "https://localhost:8080/"
        },
        "id": "MeGUUBpKaF6j",
        "outputId": "756ab94e-2117-4fc5-9812-1e9dcacd1e3f"
      },
      "execution_count": 17,
      "outputs": [
        {
          "output_type": "stream",
          "name": "stdout",
          "text": [
            "P\n"
          ]
        }
      ]
    },
    {
      "cell_type": "markdown",
      "source": [
        " #### Print the element on the 13th index in the string\n"
      ],
      "metadata": {
        "id": "80C7VmlEb8iW"
      }
    },
    {
      "cell_type": "code",
      "source": [
        "course = \"Python for Data Science\"\n",
        "print(course[12])"
      ],
      "metadata": {
        "colab": {
          "base_uri": "https://localhost:8080/"
        },
        "id": "gdSSkHsVb86j",
        "outputId": "9f5c9dbb-2a22-4c7a-989a-1054f11e0a96"
      },
      "execution_count": 18,
      "outputs": [
        {
          "output_type": "stream",
          "name": "stdout",
          "text": [
            "a\n"
          ]
        }
      ]
    },
    {
      "cell_type": "markdown",
      "source": [
        "####Find the length of string\n"
      ],
      "metadata": {
        "id": "YxdElg-lb9IQ"
      }
    },
    {
      "cell_type": "code",
      "source": [
        "course = \"Python for Data Science\"\n",
        "len(course)"
      ],
      "metadata": {
        "colab": {
          "base_uri": "https://localhost:8080/"
        },
        "id": "m6pfnrWGb9V7",
        "outputId": "8c01c2b8-f58a-4ef4-d23b-215487ce2d57"
      },
      "execution_count": 19,
      "outputs": [
        {
          "output_type": "execute_result",
          "data": {
            "text/plain": [
              "23"
            ]
          },
          "metadata": {},
          "execution_count": 19
        }
      ]
    },
    {
      "cell_type": "markdown",
      "source": [
        " #### Print the last element in the string [use negative index]\n"
      ],
      "metadata": {
        "id": "ZVH9n2fDcgrW"
      }
    },
    {
      "cell_type": "code",
      "source": [
        "course = \"Python for Data Science\"\n",
        "print(course[-1])"
      ],
      "metadata": {
        "colab": {
          "base_uri": "https://localhost:8080/"
        },
        "id": "MKE8Zo2ccg9d",
        "outputId": "bac8c06c-4e92-4673-b969-80522a369022"
      },
      "execution_count": 20,
      "outputs": [
        {
          "output_type": "stream",
          "name": "stdout",
          "text": [
            "e\n"
          ]
        }
      ]
    },
    {
      "cell_type": "markdown",
      "source": [
        "####Take the slice on variable course with only index 11 to index 14"
      ],
      "metadata": {
        "id": "fQb_GZzHchJL"
      }
    },
    {
      "cell_type": "code",
      "source": [
        "course = \"Python for Data Science\"\n",
        "slice = course[11:15]\n",
        "print(slice)\n"
      ],
      "metadata": {
        "colab": {
          "base_uri": "https://localhost:8080/"
        },
        "id": "4NoCg5XbchUj",
        "outputId": "3d24de9c-a632-47eb-e081-d00cc59d7bde"
      },
      "execution_count": 21,
      "outputs": [
        {
          "output_type": "stream",
          "name": "stdout",
          "text": [
            "Data\n"
          ]
        }
      ]
    },
    {
      "cell_type": "markdown",
      "source": [
        " Get every third element in the range from index 0 to index 20"
      ],
      "metadata": {
        "id": "Qo-8mzondL1-"
      }
    },
    {
      "cell_type": "code",
      "source": [
        "course = \"Python for Data Science\"\n",
        "every_third = course[0:20:3]\n",
        "print(every_third)"
      ],
      "metadata": {
        "colab": {
          "base_uri": "https://localhost:8080/"
        },
        "id": "vXbPMuO2dMDM",
        "outputId": "81e1e4ea-c796-444a-b012-7253f733c32c"
      },
      "execution_count": 23,
      "outputs": [
        {
          "output_type": "stream",
          "name": "stdout",
          "text": [
            "Ph ra i\n"
          ]
        }
      ]
    },
    {
      "cell_type": "markdown",
      "source": [
        " #### Concatenate course string with \", AI & Development\"\n"
      ],
      "metadata": {
        "id": "UERwlorJeoio"
      }
    },
    {
      "cell_type": "code",
      "source": [
        "course = \"Python for Data Science\"\n",
        "course = course + \", AI & Development\"\n",
        "print(course)\n"
      ],
      "metadata": {
        "colab": {
          "base_uri": "https://localhost:8080/"
        },
        "id": "G_-Oewg_eoxU",
        "outputId": "02188f2b-e712-4915-de23-9a4b85747a5c"
      },
      "execution_count": 24,
      "outputs": [
        {
          "output_type": "stream",
          "name": "stdout",
          "text": [
            "Python for Data Science, AI & Development\n"
          ]
        }
      ]
    },
    {
      "cell_type": "markdown",
      "source": [
        "#### Replace all the spaces with (_). New string should looks like\"Python_for_Data_S"
      ],
      "metadata": {
        "id": "GTuEs84QepGU"
      }
    },
    {
      "cell_type": "code",
      "source": [
        "course = \"Python for Data Science\"\n",
        "course = course.replace(\" \", \"_\")\n",
        "print(course)\n"
      ],
      "metadata": {
        "colab": {
          "base_uri": "https://localhost:8080/"
        },
        "id": "0uSehNimepQ_",
        "outputId": "058c1a6a-51e4-430d-a2e8-6363a2ae15c6"
      },
      "execution_count": 25,
      "outputs": [
        {
          "output_type": "stream",
          "name": "stdout",
          "text": [
            "Python_for_Data_Science\n"
          ]
        }
      ]
    },
    {
      "cell_type": "markdown",
      "source": [
        " #### Convert all the characters in string to upper case"
      ],
      "metadata": {
        "id": "r5VVXO_wf1Lj"
      }
    },
    {
      "cell_type": "code",
      "source": [
        "course = \"Python for Data Science\"\n",
        "upper_case_course = course.upper()\n",
        "\n",
        "print(upper_case_course)\n"
      ],
      "metadata": {
        "colab": {
          "base_uri": "https://localhost:8080/"
        },
        "id": "Arb6bWEDf1iM",
        "outputId": "d7d08a7d-33c5-435c-91a7-6f7b0341e437"
      },
      "execution_count": 27,
      "outputs": [
        {
          "output_type": "stream",
          "name": "stdout",
          "text": [
            "PYTHON FOR DATA SCIENCE\n"
          ]
        }
      ]
    }
  ]
}