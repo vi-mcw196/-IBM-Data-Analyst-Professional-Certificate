{
  "nbformat": 4,
  "nbformat_minor": 0,
  "metadata": {
    "colab": {
      "provenance": []
    },
    "kernelspec": {
      "name": "python3",
      "display_name": "Python 3"
    },
    "language_info": {
      "name": "python"
    }
  },
  "cells": [
    {
      "cell_type": "markdown",
      "source": [
        "####Q1 Write Python function that takes two inputs\n",
        "####and return their sum value"
      ],
      "metadata": {
        "id": "fW3XCyT_ALBm"
      }
    },
    {
      "cell_type": "code",
      "execution_count": null,
      "metadata": {
        "colab": {
          "base_uri": "https://localhost:8080/"
        },
        "id": "0RVL1JTMABrZ",
        "outputId": "56852ebf-c904-4c74-8ca3-bd28b173665d"
      },
      "outputs": [
        {
          "output_type": "stream",
          "name": "stdout",
          "text": [
            "Enter first number : 20\n",
            "Enter second number : 25\n",
            "Sum of the 20 and 25 is :  45\n"
          ]
        }
      ],
      "source": [
        "#Inputs has to be integer numbers only\n",
        "a=int(input(\"Enter first number : \"))\n",
        "b=int(input(\"Enter second number : \"))\n",
        "\n",
        "def total(a,b):\n",
        "   result=a+b\n",
        "   print(\"Sum of the\",a,\"and\", b,'is : ', result )  \n",
        "total(a,b)"
      ]
    },
    {
      "cell_type": "markdown",
      "source": [
        "####Q2 Write Python function the takes a celsius temprature\n",
        "####and converts it into fahrenheit"
      ],
      "metadata": {
        "id": "owiQ7lyjANft"
      }
    },
    {
      "cell_type": "code",
      "source": [
        "#Input temperature in float number or int number\n",
        "celsius = float(input(\"Enter the temperature in Celsius: \"))\n",
        "\n",
        "def celsius_to_fahrenheit(celsius):\n",
        "    fahrenheit = celsius * 1.8 + 32\n",
        "    return fahrenheit\n",
        "celsius_to_fahrenheit(celsius)\n"
      ],
      "metadata": {
        "colab": {
          "base_uri": "https://localhost:8080/"
        },
        "id": "JfK73rCvAPb0",
        "outputId": "b68d0038-ed83-496c-f918-f25d00f0563e"
      },
      "execution_count": null,
      "outputs": [
        {
          "name": "stdout",
          "output_type": "stream",
          "text": [
            "Enter the temperature in Celsius: 55.9\n"
          ]
        },
        {
          "output_type": "execute_result",
          "data": {
            "text/plain": [
              "132.62"
            ]
          },
          "metadata": {},
          "execution_count": 22
        }
      ]
    },
    {
      "cell_type": "markdown",
      "source": [
        "####Q3 Write a Python function to find the Max of three numbers"
      ],
      "metadata": {
        "id": "KjkJ0ZsYAQcU"
      }
    },
    {
      "cell_type": "code",
      "source": [
        "#Inputs has to be integer numbers only\n",
        "a=int(input(\"Enter first number : \"))\n",
        "b=int(input(\"Enter second number : \"))\n",
        "c=int(input(\"Enter third number : \"))\n",
        "\n",
        "def find_max(a, b, c):\n",
        "    # Find the maximum of the three numbers\n",
        "    max_num = max(a, b, c)\n",
        "    \n",
        "    # Return the maximum number\n",
        "    return max_num\n",
        "\n",
        "# Call the function and pass three numbers as arguments\n",
        "max_number = find_max(a, b, c)\n",
        "\n",
        "# Print the maximum number\n",
        "print('Maximum number is : ', max_number)  \n"
      ],
      "metadata": {
        "colab": {
          "base_uri": "https://localhost:8080/"
        },
        "id": "E5ZldnV4ASHd",
        "outputId": "1000c7e3-0155-4537-d0d9-45607eb591a1"
      },
      "execution_count": null,
      "outputs": [
        {
          "output_type": "stream",
          "name": "stdout",
          "text": [
            "Enter first number : 55\n",
            "Enter second number : 1000\n",
            "Enter third number : 5555\n",
            "Maximum number is :  5555\n"
          ]
        }
      ]
    },
    {
      "cell_type": "markdown",
      "source": [
        "####Q4 Write a Python function to check whether a number\n",
        "####is in a given range [5,12]"
      ],
      "metadata": {
        "id": "c20767X9Aets"
      }
    },
    {
      "cell_type": "code",
      "source": [
        "#Input has to be integer numbers only\n",
        "num=int(input(\"Enter a number : \"))\n",
        "\n",
        "def in_range(num):\n",
        "    #check whether a number is in a given range [5,12]\n",
        "    if num >= 5 and num <= 12:\n",
        "        print('Input number ', num ,'is in the range [5,12]')\n",
        "    else:\n",
        "        print('Input number ', num ,'is not in the range [5,12]')\n",
        "\n",
        "# Call the function and pass number as argument        \n",
        "in_range(num)\n",
        "\n"
      ],
      "metadata": {
        "colab": {
          "base_uri": "https://localhost:8080/"
        },
        "id": "xvuLBY7BAe80",
        "outputId": "104ec6fb-c2f1-4f12-98db-bd00a36d9a74"
      },
      "execution_count": null,
      "outputs": [
        {
          "output_type": "stream",
          "name": "stdout",
          "text": [
            "Enter a number : 50\n",
            "Input number  50 is not in the range [5,12]\n"
          ]
        }
      ]
    },
    {
      "cell_type": "markdown",
      "source": [
        "####Q5 Write a Python function that takes a list\n",
        "####and returns a new list with unique elements of the first\n",
        "####Sample_List : [1,2,3,3,3,3,4,5]"
      ],
      "metadata": {
        "id": "VefRIFAEAfG4"
      }
    },
    {
      "cell_type": "code",
      "source": [
        "Sample_List = [1,2,3,3,3,3,4,5]\n",
        "\n",
        "def unique_list(numbers):\n",
        "    unique = []\n",
        "    #use for loop and if condition to check and append\n",
        "    for item in numbers :\n",
        "        if item not in unique:\n",
        "            unique.append(item)\n",
        "    return unique\n",
        "\n",
        "#Call the function and pass List as argument  \n",
        "print(unique_list(Sample_List))"
      ],
      "metadata": {
        "colab": {
          "base_uri": "https://localhost:8080/"
        },
        "id": "oTKhlrIjAfQ8",
        "outputId": "d0c5689d-a05b-4666-ca39-7ed63bbbefc0"
      },
      "execution_count": null,
      "outputs": [
        {
          "output_type": "stream",
          "name": "stdout",
          "text": [
            "[1, 2, 3, 4, 5]\n"
          ]
        }
      ]
    },
    {
      "cell_type": "code",
      "source": [
        "#Input has to be integer numbers only\n",
        "num=int(input(\"Enter a number : \"))\n",
        "num1=int(input(\"Enter a number : \"))\n",
        "num2=int(input(\"Enter a number : \"))\n",
        "num3=int(input(\"Enter a number : \"))\n",
        "num4=int(input(\"Enter a number : \"))\n",
        "Sample_List = [num, num1, num2, num3, num4]\n",
        "\n",
        "def unique_list(numbers):\n",
        "    unique = []\n",
        "    #use for loop and if condition to check and append\n",
        "    for item in numbers :\n",
        "        if item not in unique:\n",
        "            unique.append(item)\n",
        "    return unique\n",
        "\n",
        "#Call the function and pass List as argument  \n",
        "print('User input list = ', Sample_List)\n",
        "print('Unique list = ', unique_list(Sample_List))"
      ],
      "metadata": {
        "colab": {
          "base_uri": "https://localhost:8080/"
        },
        "id": "ilyF4iq6XuF8",
        "outputId": "9ca2b7ea-bd0c-423c-a728-fa05c2f85cf9"
      },
      "execution_count": null,
      "outputs": [
        {
          "output_type": "stream",
          "name": "stdout",
          "text": [
            "Enter a number : 1\n",
            "Enter a number : 1\n",
            "Enter a number : 55\n",
            "Enter a number : 55\n",
            "Enter a number : 6\n",
            "User input list =  [1, 1, 55, 55, 6]\n",
            "Unique list =  [1, 55, 6]\n"
          ]
        }
      ]
    },
    {
      "cell_type": "markdown",
      "source": [
        "####Q6 Given a list of numbers, return True if first\n",
        "####and last number of a list is same\n",
        "####list1=[1,2,5,4,1]\n",
        "####list2=[5,6,3,2,1]\n",
        "####list3=[88,44,55,66,77,88]"
      ],
      "metadata": {
        "id": "PVhV8HqOAxAV"
      }
    },
    {
      "cell_type": "code",
      "source": [
        "#define function for first and last number of a list\n",
        "def first_last_same(lst):\n",
        "    if lst[0] == lst[-1]:\n",
        "        return True\n",
        "    else:\n",
        "        return False\n",
        "\n",
        "#Given a list of numbers\n",
        "list1=[1,2,5,4,1]\n",
        "list2=[5,6,3,2,1]\n",
        "list3=[88,44,55,66,77,88]\n",
        "\n",
        "#Call the function and pass List as argument  \n",
        "print(first_last_same(list1)) \n",
        "print(first_last_same(list2))\n",
        "print(first_last_same(list3))\n"
      ],
      "metadata": {
        "colab": {
          "base_uri": "https://localhost:8080/"
        },
        "id": "aGz_CKXFAxQd",
        "outputId": "284fa670-a7aa-418c-c71f-7aeb9f2e7b26"
      },
      "execution_count": null,
      "outputs": [
        {
          "output_type": "stream",
          "name": "stdout",
          "text": [
            "True\n",
            "False\n",
            "True\n"
          ]
        }
      ]
    }
  ]
}