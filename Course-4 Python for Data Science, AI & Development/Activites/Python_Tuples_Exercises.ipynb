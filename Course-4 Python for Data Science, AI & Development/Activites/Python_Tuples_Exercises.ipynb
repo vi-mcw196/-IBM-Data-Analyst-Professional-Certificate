{
  "nbformat": 4,
  "nbformat_minor": 0,
  "metadata": {
    "colab": {
      "provenance": []
    },
    "kernelspec": {
      "name": "python3",
      "display_name": "Python 3"
    },
    "language_info": {
      "name": "python"
    }
  },
  "cells": [
    {
      "cell_type": "markdown",
      "source": [
        "####Q1 Create myTuple tuple with the follwoing values (\"NPower\",\"JDA\",\"Tuesday\",30,3,2022)"
      ],
      "metadata": {
        "id": "JVUHd5azOZR_"
      }
    },
    {
      "cell_type": "code",
      "execution_count": null,
      "metadata": {
        "colab": {
          "base_uri": "https://localhost:8080/"
        },
        "id": "NICKUguTOTSa",
        "outputId": "055a1b93-5f5a-4317-8cfa-b3ce8b8889b1"
      },
      "outputs": [
        {
          "output_type": "execute_result",
          "data": {
            "text/plain": [
              "('NPower', 'JDA', 'Tuesday', 30, 3, 2022)"
            ]
          },
          "metadata": {},
          "execution_count": 1
        }
      ],
      "source": [
        "myTuple = (\"NPower\",\"JDA\",\"Tuesday\",30,3,2022)\n",
        "myTuple"
      ]
    },
    {
      "cell_type": "markdown",
      "source": [
        "####Q2 What is the type of myTuple"
      ],
      "metadata": {
        "id": "CVBDOZpePoHr"
      }
    },
    {
      "cell_type": "code",
      "source": [
        "type(myTuple)"
      ],
      "metadata": {
        "colab": {
          "base_uri": "https://localhost:8080/"
        },
        "id": "5GAtBIVjPoSM",
        "outputId": "0da90e60-e48c-461b-8659-05d4e910c38b"
      },
      "execution_count": null,
      "outputs": [
        {
          "output_type": "execute_result",
          "data": {
            "text/plain": [
              "tuple"
            ]
          },
          "metadata": {},
          "execution_count": 2
        }
      ]
    },
    {
      "cell_type": "markdown",
      "source": [
        "####Q3 What is the length of myTuple"
      ],
      "metadata": {
        "id": "JO4TlW3wQAMB"
      }
    },
    {
      "cell_type": "code",
      "source": [
        "len(myTuple)"
      ],
      "metadata": {
        "colab": {
          "base_uri": "https://localhost:8080/"
        },
        "id": "PbDCyZmgQAT_",
        "outputId": "1ca7dbf1-f3fd-4750-be37-b15a2daea6ac"
      },
      "execution_count": null,
      "outputs": [
        {
          "output_type": "execute_result",
          "data": {
            "text/plain": [
              "6"
            ]
          },
          "metadata": {},
          "execution_count": 3
        }
      ]
    },
    {
      "cell_type": "markdown",
      "source": [
        "####Q4 print the values in each index #Use regular indexing"
      ],
      "metadata": {
        "id": "YHN7S0NJQIv5"
      }
    },
    {
      "cell_type": "code",
      "source": [
        "print(\"Value at index 0 is:\", myTuple[0])\n",
        "print(\"Value at index 1 is:\", myTuple[1])\n",
        "print(\"Value at index 2 is:\", myTuple[2])\n",
        "print(\"Value at index 3 is:\", myTuple[3])\n",
        "print(\"Value at index 4 is:\", myTuple[4])\n",
        "print(\"Value at index 5 is:\", myTuple[5])\n"
      ],
      "metadata": {
        "colab": {
          "base_uri": "https://localhost:8080/"
        },
        "id": "LuT7E5UCQI66",
        "outputId": "e4836a0e-fff2-4274-f675-0269763653f7"
      },
      "execution_count": null,
      "outputs": [
        {
          "output_type": "stream",
          "name": "stdout",
          "text": [
            "Value at index 0 is: NPower\n",
            "Value at index 1 is: JDA\n",
            "Value at index 2 is: Tuesday\n",
            "Value at index 3 is: 30\n",
            "Value at index 4 is: 3\n",
            "Value at index 5 is: 2022\n"
          ]
        }
      ]
    },
    {
      "cell_type": "code",
      "source": [
        "#Better and simple solution for Q4. Thanks to Group-1 for this simple solution\n",
        "myTuple[:]"
      ],
      "metadata": {
        "colab": {
          "base_uri": "https://localhost:8080/"
        },
        "id": "sBBc6UERTcg2",
        "outputId": "c6ff9297-f716-4615-cf82-bff67249d11c"
      },
      "execution_count": null,
      "outputs": [
        {
          "output_type": "execute_result",
          "data": {
            "text/plain": [
              "('NPower', 'JDA', 'Tuesday', 30, 3, 2022)"
            ]
          },
          "metadata": {},
          "execution_count": 5
        }
      ]
    },
    {
      "cell_type": "markdown",
      "source": [
        "####Q5 print the values in each index #Use negative indexing"
      ],
      "metadata": {
        "id": "jEwdsAoGQJPO"
      }
    },
    {
      "cell_type": "code",
      "source": [
        "\n",
        "print(\"Value at index -6: \", myTuple[-6])\n",
        "print(\"Value at index -5: \", myTuple[-5])\n",
        "print(\"Value at index -4: \", myTuple[-4])\n",
        "print(\"Value at index -3: \", myTuple[-3])\n",
        "print(\"Value at index -2: \", myTuple[-2])\n",
        "print(\"Value at index -1: \", myTuple[-1])"
      ],
      "metadata": {
        "colab": {
          "base_uri": "https://localhost:8080/"
        },
        "id": "9m2WiGoxQJZO",
        "outputId": "5133bb2f-f601-42a5-8c2a-3c8c805806ba"
      },
      "execution_count": null,
      "outputs": [
        {
          "output_type": "stream",
          "name": "stdout",
          "text": [
            "Value at index -6:  NPower\n",
            "Value at index -5:  JDA\n",
            "Value at index -4:  Tuesday\n",
            "Value at index -3:  30\n",
            "Value at index -2:  3\n",
            "Value at index -1:  2022\n"
          ]
        }
      ]
    },
    {
      "cell_type": "code",
      "source": [
        "#Better and simple solution for Q5. Thanks to Group-1 for this simple solution\n",
        "myTuple[-6:]"
      ],
      "metadata": {
        "colab": {
          "base_uri": "https://localhost:8080/"
        },
        "id": "VlIILF7dTp4y",
        "outputId": "5ead7fd0-9add-4513-9c60-19283bfe69f5"
      },
      "execution_count": null,
      "outputs": [
        {
          "output_type": "execute_result",
          "data": {
            "text/plain": [
              "('NPower', 'JDA', 'Tuesday', 30, 3, 2022)"
            ]
          },
          "metadata": {},
          "execution_count": 7
        }
      ]
    },
    {
      "cell_type": "markdown",
      "source": [
        "####Q6 what is the type of each value"
      ],
      "metadata": {
        "id": "2nDMGgTARJ5a"
      }
    },
    {
      "cell_type": "code",
      "source": [
        "for value in myTuple:\n",
        "    print(f\"The type of value {value} is {type(value).__name__}\")"
      ],
      "metadata": {
        "colab": {
          "base_uri": "https://localhost:8080/"
        },
        "id": "tEhZD_EJRKEp",
        "outputId": "7b074cf2-f279-45e6-c9dd-9854ee7fe2cb"
      },
      "execution_count": null,
      "outputs": [
        {
          "output_type": "stream",
          "name": "stdout",
          "text": [
            "The type of value NPower is str\n",
            "The type of value JDA is str\n",
            "The type of value Tuesday is str\n",
            "The type of value 30 is int\n",
            "The type of value 3 is int\n",
            "The type of value 2022 is int\n"
          ]
        }
      ]
    },
    {
      "cell_type": "markdown",
      "source": [
        "####Q7 unpack myTuple in the follwoeing variables name,program,dayName,month,day,yea\n",
        "####print the variables"
      ],
      "metadata": {
        "id": "N3uANJ7MRKR5"
      }
    },
    {
      "cell_type": "code",
      "source": [
        "# unpacking the tuple into individual variables\n",
        "(name, program, dayName, month, day, year) = myTuple\n",
        "\n",
        "# printing the variables \n",
        "print(\"Name:\", name)\n",
        "print(\"Program:\", program)\n",
        "print(\"Day Name:\", dayName)\n",
        "print(\"Month:\", month)\n",
        "print(\"Day:\", day)\n",
        "print(\"Year:\", year)"
      ],
      "metadata": {
        "colab": {
          "base_uri": "https://localhost:8080/"
        },
        "id": "fEsx75paRKcj",
        "outputId": "20f09bcd-5c17-4a41-91dc-c739057740ee"
      },
      "execution_count": null,
      "outputs": [
        {
          "output_type": "stream",
          "name": "stdout",
          "text": [
            "Name: NPower\n",
            "Program: JDA\n",
            "Day Name: Tuesday\n",
            "Month: 30\n",
            "Day: 3\n",
            "Year: 2022\n"
          ]
        }
      ]
    },
    {
      "cell_type": "markdown",
      "source": [
        "####Q8 unpack myTuple2 in the follwoeing variables name,program,dayName.\n",
        "####What will happen to variables (name,program,dayName) and (month,day,year)"
      ],
      "metadata": {
        "id": "EVlPhHtMXQJx"
      }
    },
    {
      "cell_type": "code",
      "source": [
        "# Note the following\n",
        "Tuple1=(\"Jerry\",2,89) #This is a tuple with 3 elements\n",
        "Tuple2=(\"Ulan\",)#This is a tuple with 1 element\n",
        "test=\"Leul\" #This is a VARIABLE with string value\n",
        "a,b,c=Tuple1\n",
        "print(\"Type a\",type(a))\n",
        "print(a,b,c)\n",
        "d=Tuple2\n",
        "print(type(d))\n",
        "print(d)\n",
        "e=test\n",
        "print(e)"
      ],
      "metadata": {
        "colab": {
          "base_uri": "https://localhost:8080/"
        },
        "id": "2dPeiYSmXQVa",
        "outputId": "28b6bd9f-19bc-4451-a06b-9d9d35019008"
      },
      "execution_count": null,
      "outputs": [
        {
          "output_type": "stream",
          "name": "stdout",
          "text": [
            "Type a <class 'str'>\n",
            "Jerry 2 89\n",
            "<class 'tuple'>\n",
            "('Ulan',)\n",
            "Leul\n"
          ]
        }
      ]
    },
    {
      "cell_type": "code",
      "source": [
        "#Tuples are immutable\n",
        "#we can always make the testTuple variable reference a new tuple in the memory\n",
        "#and hold a different information\n",
        "testTuple=(1,2,3)\n",
        "print(testTuple)\n",
        "testTuple=(4,5,6)\n",
        "print(testTuple)\n",
        "#But we can't change or edit a value for the existing tuple\n",
        "testTuple[0]=6 #ERROR 'tuple' object does not support item assignment"
      ],
      "metadata": {
        "colab": {
          "base_uri": "https://localhost:8080/",
          "height": 235
        },
        "id": "DVDyaDIgX4wy",
        "outputId": "330431f0-31a4-46c0-83bc-cfbf45618b77"
      },
      "execution_count": null,
      "outputs": [
        {
          "output_type": "stream",
          "name": "stdout",
          "text": [
            "(1, 2, 3)\n",
            "(4, 5, 6)\n"
          ]
        },
        {
          "output_type": "error",
          "ename": "TypeError",
          "evalue": "ignored",
          "traceback": [
            "\u001b[0;31m---------------------------------------------------------------------------\u001b[0m",
            "\u001b[0;31mTypeError\u001b[0m                                 Traceback (most recent call last)",
            "\u001b[0;32m<ipython-input-11-855a10251bdc>\u001b[0m in \u001b[0;36m<module>\u001b[0;34m\u001b[0m\n\u001b[1;32m      7\u001b[0m \u001b[0mprint\u001b[0m\u001b[0;34m(\u001b[0m\u001b[0mtestTuple\u001b[0m\u001b[0;34m)\u001b[0m\u001b[0;34m\u001b[0m\u001b[0;34m\u001b[0m\u001b[0m\n\u001b[1;32m      8\u001b[0m \u001b[0;31m#But we can't change or edit a value for the existing tuple\u001b[0m\u001b[0;34m\u001b[0m\u001b[0;34m\u001b[0m\u001b[0;34m\u001b[0m\u001b[0m\n\u001b[0;32m----> 9\u001b[0;31m \u001b[0mtestTuple\u001b[0m\u001b[0;34m[\u001b[0m\u001b[0;36m0\u001b[0m\u001b[0;34m]\u001b[0m\u001b[0;34m=\u001b[0m\u001b[0;36m6\u001b[0m \u001b[0;31m#ERROR 'tuple' object does not support item assignment\u001b[0m\u001b[0;34m\u001b[0m\u001b[0;34m\u001b[0m\u001b[0m\n\u001b[0m",
            "\u001b[0;31mTypeError\u001b[0m: 'tuple' object does not support item assignment"
          ]
        }
      ]
    },
    {
      "cell_type": "markdown",
      "source": [
        "####Q9 Reverse myTuple, output should looks like (2021,3,30,\"Tuesday\",\"JDA\",\"NPower\")"
      ],
      "metadata": {
        "id": "GEy4-Q2BX8GZ"
      }
    },
    {
      "cell_type": "code",
      "source": [
        "myTuple[::-1]"
      ],
      "metadata": {
        "colab": {
          "base_uri": "https://localhost:8080/"
        },
        "id": "t3lEgazQX8T8",
        "outputId": "502d6394-94c1-420c-ab85-563441f99fcc"
      },
      "execution_count": null,
      "outputs": [
        {
          "output_type": "execute_result",
          "data": {
            "text/plain": [
              "(2022, 3, 30, 'Tuesday', 'JDA', 'NPower')"
            ]
          },
          "metadata": {},
          "execution_count": 12
        }
      ]
    },
    {
      "cell_type": "markdown",
      "source": [
        "####Q10 Create nestedTuple=((\"Coursera\",\"course\",6),(\"week\",(2,\"Lists\",\"Tuple\")))"
      ],
      "metadata": {
        "id": "eGeR8SidX895"
      }
    },
    {
      "cell_type": "code",
      "source": [
        "nestedTuple = ((\"Coursera\", \"course\", 6), (\"week\", (2, \"Lists\", \"Tuple\")))\n",
        "nestedTuple"
      ],
      "metadata": {
        "colab": {
          "base_uri": "https://localhost:8080/"
        },
        "id": "61YpylriX9Hz",
        "outputId": "8cf1bb2e-34a6-463c-f4e7-8908aa6ad805"
      },
      "execution_count": null,
      "outputs": [
        {
          "output_type": "execute_result",
          "data": {
            "text/plain": [
              "(('Coursera', 'course', 6), ('week', (2, 'Lists', 'Tuple')))"
            ]
          },
          "metadata": {},
          "execution_count": 13
        }
      ]
    },
    {
      "cell_type": "markdown",
      "source": [
        "####Q11 What is the output of nestedTuple[1:2]"
      ],
      "metadata": {
        "id": "mlBGiyUpX9SZ"
      }
    },
    {
      "cell_type": "code",
      "source": [
        "nestedTuple[1:2]\n"
      ],
      "metadata": {
        "colab": {
          "base_uri": "https://localhost:8080/"
        },
        "id": "CEDVaLZsaECC",
        "outputId": "a55ce455-aef1-4ca8-cc1f-b6a228305294"
      },
      "execution_count": null,
      "outputs": [
        {
          "output_type": "execute_result",
          "data": {
            "text/plain": [
              "(('week', (2, 'Lists', 'Tuple')),)"
            ]
          },
          "metadata": {},
          "execution_count": 14
        }
      ]
    },
    {
      "cell_type": "markdown",
      "source": [
        "####Q12 print each element in the nestedTuple"
      ],
      "metadata": {
        "id": "KM-YpPRVbdQX"
      }
    },
    {
      "cell_type": "code",
      "source": [
        "nestedTuple\n"
      ],
      "metadata": {
        "colab": {
          "base_uri": "https://localhost:8080/"
        },
        "id": "owPY2LnDbdeK",
        "outputId": "59dd6179-b28c-4000-91f6-9cfbcaf67725"
      },
      "execution_count": null,
      "outputs": [
        {
          "output_type": "execute_result",
          "data": {
            "text/plain": [
              "(('Coursera', 'course', 6), ('week', (2, 'Lists', 'Tuple')))"
            ]
          },
          "metadata": {},
          "execution_count": 15
        }
      ]
    },
    {
      "cell_type": "markdown",
      "source": [
        "####Q13 Access (2,\"Lists\",\"Tuple\") from nestedTuple"
      ],
      "metadata": {
        "id": "i5g6qbwubdru"
      }
    },
    {
      "cell_type": "code",
      "source": [
        "nestedTuple[1][1]\n"
      ],
      "metadata": {
        "colab": {
          "base_uri": "https://localhost:8080/"
        },
        "id": "g_W79fM5cngg",
        "outputId": "77091d90-e995-4e3a-fe52-ec2d92471387"
      },
      "execution_count": null,
      "outputs": [
        {
          "output_type": "execute_result",
          "data": {
            "text/plain": [
              "(2, 'Lists', 'Tuple')"
            ]
          },
          "metadata": {},
          "execution_count": 16
        }
      ]
    },
    {
      "cell_type": "markdown",
      "source": [
        "####Q14 Access the value \"Lists\" from nestedTuple"
      ],
      "metadata": {
        "id": "itfG2sGcdca_"
      }
    },
    {
      "cell_type": "code",
      "source": [
        "nestedTuple[1][1][1]"
      ],
      "metadata": {
        "colab": {
          "base_uri": "https://localhost:8080/",
          "height": 35
        },
        "id": "9byVFWJMdclf",
        "outputId": "5715281c-0d39-426a-ec3c-b39d84ec6db4"
      },
      "execution_count": null,
      "outputs": [
        {
          "output_type": "execute_result",
          "data": {
            "text/plain": [
              "'Lists'"
            ],
            "application/vnd.google.colaboratory.intrinsic+json": {
              "type": "string"
            }
          },
          "metadata": {},
          "execution_count": 17
        }
      ]
    },
    {
      "cell_type": "markdown",
      "source": [
        "####Q15 Access the value \"Tuple\" from nestedTuple"
      ],
      "metadata": {
        "id": "1P23blg1dcwW"
      }
    },
    {
      "cell_type": "code",
      "source": [
        "nestedTuple[1][1][2]\n"
      ],
      "metadata": {
        "colab": {
          "base_uri": "https://localhost:8080/",
          "height": 35
        },
        "id": "TIaFAGcsdc5d",
        "outputId": "7cc9a1fa-86a0-4fe3-d3bf-2d61db59a27a"
      },
      "execution_count": null,
      "outputs": [
        {
          "output_type": "execute_result",
          "data": {
            "text/plain": [
              "'Tuple'"
            ],
            "application/vnd.google.colaboratory.intrinsic+json": {
              "type": "string"
            }
          },
          "metadata": {},
          "execution_count": 18
        }
      ]
    },
    {
      "cell_type": "markdown",
      "source": [
        "####Q16 Access the value \"course\" from nestedTuple"
      ],
      "metadata": {
        "id": "t9k3-WakddH6"
      }
    },
    {
      "cell_type": "code",
      "source": [
        "nestedTuple[0][1]"
      ],
      "metadata": {
        "colab": {
          "base_uri": "https://localhost:8080/",
          "height": 35
        },
        "id": "XznoVYE6ddQ3",
        "outputId": "7fe9cef4-3181-4001-ff7f-627f903c211d"
      },
      "execution_count": null,
      "outputs": [
        {
          "output_type": "execute_result",
          "data": {
            "text/plain": [
              "'course'"
            ],
            "application/vnd.google.colaboratory.intrinsic+json": {
              "type": "string"
            }
          },
          "metadata": {},
          "execution_count": 19
        }
      ]
    },
    {
      "cell_type": "markdown",
      "source": [
        "####Q17 Concatenate myTuple with nestedTuple"
      ],
      "metadata": {
        "id": "STBod58WfSqJ"
      }
    },
    {
      "cell_type": "code",
      "source": [
        "myTuple=myTuple+nestedTuple\n",
        "myTuple"
      ],
      "metadata": {
        "colab": {
          "base_uri": "https://localhost:8080/"
        },
        "id": "jp2xtGpCfS2N",
        "outputId": "8f0f11c0-4390-4489-ab68-1d3f43197179"
      },
      "execution_count": null,
      "outputs": [
        {
          "output_type": "execute_result",
          "data": {
            "text/plain": [
              "('NPower',\n",
              " 'JDA',\n",
              " 'Tuesday',\n",
              " 30,\n",
              " 3,\n",
              " 2022,\n",
              " ('Coursera', 'course', 6),\n",
              " ('week', (2, 'Lists', 'Tuple')))"
            ]
          },
          "metadata": {},
          "execution_count": 20
        }
      ]
    },
    {
      "cell_type": "markdown",
      "source": [
        "####Q18 add your name to the tuple"
      ],
      "metadata": {
        "id": "cj12MUfjfTCW"
      }
    },
    {
      "cell_type": "code",
      "source": [
        "myTuple = myTuple + ('Lakshmi',)\n",
        "myTuple "
      ],
      "metadata": {
        "colab": {
          "base_uri": "https://localhost:8080/"
        },
        "id": "yZomSaS2fTPx",
        "outputId": "b64aa8f6-880a-40f4-c53b-575437c24428"
      },
      "execution_count": null,
      "outputs": [
        {
          "output_type": "execute_result",
          "data": {
            "text/plain": [
              "('NPower',\n",
              " 'JDA',\n",
              " 'Tuesday',\n",
              " 30,\n",
              " 3,\n",
              " 2022,\n",
              " ('Coursera', 'course', 6),\n",
              " ('week', (2, 'Lists', 'Tuple')),\n",
              " 'Lakshmi')"
            ]
          },
          "metadata": {},
          "execution_count": 21
        }
      ]
    },
    {
      "cell_type": "markdown",
      "source": [
        "####Q19 check whether Coursera exists within myTuple\n",
        "####NOTE \"in\" doesn't work properly with nested tuples"
      ],
      "metadata": {
        "id": "s0EMRowAi5G2"
      }
    },
    {
      "cell_type": "code",
      "source": [
        "if 'Coursera' in myTuple:\n",
        "    print('Coursera exists in myTuple')\n",
        "else:\n",
        "    print('Coursera does not exist in myTuple')\n"
      ],
      "metadata": {
        "colab": {
          "base_uri": "https://localhost:8080/"
        },
        "id": "mqZG-OfDi3Cr",
        "outputId": "ae69fd85-be8d-4b4f-b895-7405b0a2487b"
      },
      "execution_count": null,
      "outputs": [
        {
          "output_type": "stream",
          "name": "stdout",
          "text": [
            "Coursera does not exist in myTuple\n"
          ]
        }
      ]
    },
    {
      "cell_type": "markdown",
      "source": [
        "####Q20 check whether 55 exists within testTuple\n",
        "testTuple=(1,2,33,55,6,55)"
      ],
      "metadata": {
        "id": "QO75rH75j5yj"
      }
    },
    {
      "cell_type": "code",
      "source": [
        "testTuple = (1, 2, 33, 55, 6, 55)\n",
        "\n",
        "if 55 in testTuple:\n",
        "    print(\"55 exists in testTuple\")\n",
        "else:\n",
        "    print(\"55 does not exist in testTuple\")\n"
      ],
      "metadata": {
        "colab": {
          "base_uri": "https://localhost:8080/"
        },
        "id": "KXkM3Smqj5_T",
        "outputId": "100fc35a-a5c8-4f02-96b7-5e0c60ec8296"
      },
      "execution_count": null,
      "outputs": [
        {
          "output_type": "stream",
          "name": "stdout",
          "text": [
            "55 exists in testTuple\n"
          ]
        }
      ]
    },
    {
      "cell_type": "markdown",
      "source": [
        "####Q21 Find the index of JDA in myTuple\n",
        "\n",
        "####Find the index of 'Coursera' in myTuple\n",
        "####NOTE index doesn't work properly with nested tuples # Wrong output"
      ],
      "metadata": {
        "id": "kP9PKXWTj6Mz"
      }
    },
    {
      "cell_type": "code",
      "source": [
        "# Find the index of 'JDA' in myTuple\n",
        "jda_index = myTuple.index('JDA')\n",
        "print(f\"The index of 'JDA' in myTuple is: {jda_index}\")\n",
        "\n",
        "# Find the index of 'Coursera' in myTuple\n",
        "coursera_index = myTuple.index(('Coursera', 'course', 6))\n",
        "print(f\"The index of 'Coursera' in myTuple is: {coursera_index}\")"
      ],
      "metadata": {
        "colab": {
          "base_uri": "https://localhost:8080/"
        },
        "id": "6ca_I0d7j6X1",
        "outputId": "229f4e26-d93a-4b3b-ef6b-c45102058de2"
      },
      "execution_count": null,
      "outputs": [
        {
          "output_type": "stream",
          "name": "stdout",
          "text": [
            "The index of 'JDA' in myTuple is: 1\n",
            "The index of 'Coursera' in myTuple is: 6\n"
          ]
        }
      ]
    },
    {
      "cell_type": "markdown",
      "source": [
        "####Q22 print index 8 from myTuple"
      ],
      "metadata": {
        "id": "0sjE2nj0lZcp"
      }
    },
    {
      "cell_type": "code",
      "source": [
        "myTuple[8]"
      ],
      "metadata": {
        "colab": {
          "base_uri": "https://localhost:8080/",
          "height": 35
        },
        "id": "4NWr_3oQlZoY",
        "outputId": "ca8fea6b-d045-4d80-eef6-433c675597bf"
      },
      "execution_count": null,
      "outputs": [
        {
          "output_type": "execute_result",
          "data": {
            "text/plain": [
              "'Lakshmi'"
            ],
            "application/vnd.google.colaboratory.intrinsic+json": {
              "type": "string"
            }
          },
          "metadata": {},
          "execution_count": 25
        }
      ]
    },
    {
      "cell_type": "markdown",
      "source": [
        "#Q23 Get the 4th element from the begining of myTuple and 4th element from last "
      ],
      "metadata": {
        "id": "WEogeeMilZzC"
      }
    },
    {
      "cell_type": "code",
      "source": [
        "# Get the 4th element from the beginning of myTuple\n",
        "fourth_element = myTuple[3]\n",
        "print(\"The 4th element from the beginning is:\", fourth_element)\n",
        "\n",
        "# Get the 4th element from the end of myTuple\n",
        "fourth_last_element = myTuple[-4]\n",
        "print(\"The 4th element from the end is:\", fourth_last_element)\n"
      ],
      "metadata": {
        "colab": {
          "base_uri": "https://localhost:8080/"
        },
        "id": "iSZVT470lZ-b",
        "outputId": "026f6429-fc39-4626-a2ed-c9204ee54c98"
      },
      "execution_count": null,
      "outputs": [
        {
          "output_type": "stream",
          "name": "stdout",
          "text": [
            "The 4th element from the beginning is: 30\n",
            "The 4th element from the end is: 2022\n"
          ]
        }
      ]
    },
    {
      "cell_type": "markdown",
      "source": [
        "####Q24 Find how many times 55 appeared in testTuple [Hint: Use method count()]"
      ],
      "metadata": {
        "id": "s1DD9Rz0ladR"
      }
    },
    {
      "cell_type": "code",
      "source": [
        "testTuple = (1, 2, 33, 55, 6, 55)\n",
        "testTuple.count(55)"
      ],
      "metadata": {
        "colab": {
          "base_uri": "https://localhost:8080/"
        },
        "id": "J0dVAR8JlapO",
        "outputId": "1705bafa-1671-46a1-cfec-cd09a6e9207d"
      },
      "execution_count": null,
      "outputs": [
        {
          "output_type": "execute_result",
          "data": {
            "text/plain": [
              "2"
            ]
          },
          "metadata": {},
          "execution_count": 27
        }
      ]
    }
  ]
}