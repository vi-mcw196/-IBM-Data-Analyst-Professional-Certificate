{
  "nbformat": 4,
  "nbformat_minor": 0,
  "metadata": {
    "colab": {
      "provenance": []
    },
    "kernelspec": {
      "name": "python3",
      "display_name": "Python 3"
    },
    "language_info": {
      "name": "python"
    }
  },
  "cells": [
    {
      "cell_type": "markdown",
      "source": [
        "####Q1 Create a tuple with all participant names in the JDA program"
      ],
      "metadata": {
        "id": "hel-JjSh1siu"
      }
    },
    {
      "cell_type": "code",
      "execution_count": 1,
      "metadata": {
        "colab": {
          "base_uri": "https://localhost:8080/"
        },
        "id": "6t7uWF8Q1Qlz",
        "outputId": "fe83bc6a-f2c0-4a18-da18-f94c7200e4e3"
      },
      "outputs": [
        {
          "output_type": "execute_result",
          "data": {
            "text/plain": [
              "('Lakshmi Kadali',\n",
              " 'Angie Zhou',\n",
              " 'Pallavi Shinde',\n",
              " 'Chidinma Onyejiuwa',\n",
              " 'Juhi Shaw',\n",
              " 'Omid Rahmani',\n",
              " 'Tanudeep Kaur')"
            ]
          },
          "metadata": {},
          "execution_count": 1
        }
      ],
      "source": [
        "Group6_tuple = ('Lakshmi Kadali', 'Angie Zhou', 'Pallavi Shinde', 'Chidinma Onyejiuwa', 'Juhi Shaw', 'Omid Rahmani', 'Tanudeep Kaur')\n",
        "Group6_tuple\n"
      ]
    },
    {
      "cell_type": "markdown",
      "source": [
        "####Q2 Convert the tuple into a list called pps_L"
      ],
      "metadata": {
        "id": "6Y1AKoHV1yuE"
      }
    },
    {
      "cell_type": "code",
      "source": [
        "# Convert the tuple to a list\n",
        "Group6_list = list(Group6_tuple)\n",
        "\n",
        "# Print the list\n",
        "print('Group6_list = ', Group6_list)\n"
      ],
      "metadata": {
        "colab": {
          "base_uri": "https://localhost:8080/"
        },
        "id": "E121smTa1y94",
        "outputId": "2e12b2e6-958f-46e5-c3c7-9a7b91c2bb49"
      },
      "execution_count": 4,
      "outputs": [
        {
          "output_type": "stream",
          "name": "stdout",
          "text": [
            "Group6_list =  ['Lakshmi Kadali', 'Angie Zhou', 'Pallavi Shinde', 'Chidinma Onyejiuwa', 'Juhi Shaw', 'Omid Rahmani', 'Tanudeep Kaur']\n"
          ]
        }
      ]
    },
    {
      "cell_type": "markdown",
      "source": [
        "####Q3 What is the length of your list"
      ],
      "metadata": {
        "id": "eK5RKlHB1zH2"
      }
    },
    {
      "cell_type": "code",
      "source": [
        "length_of_list = len(Group6_list)\n",
        "length_of_list \n"
      ],
      "metadata": {
        "colab": {
          "base_uri": "https://localhost:8080/"
        },
        "id": "Ya-8kegL1zQ7",
        "outputId": "6c3e7888-ccd6-4633-d24d-89151d265827"
      },
      "execution_count": 7,
      "outputs": [
        {
          "output_type": "execute_result",
          "data": {
            "text/plain": [
              "7"
            ]
          },
          "metadata": {},
          "execution_count": 7
        }
      ]
    },
    {
      "cell_type": "markdown",
      "source": [
        "####Q4 Find the values stored in indexes [3],[5],[14],[30],[38]"
      ],
      "metadata": {
        "id": "LD8kRMT53tWo"
      }
    },
    {
      "cell_type": "code",
      "source": [
        "# index 3,5\n",
        "value_3 = Group6_list[3]\n",
        "print(value_3)  \n",
        "\n",
        "# index 5\n",
        "value_5 = Group6_list[5]\n",
        "print(value_5) \n"
      ],
      "metadata": {
        "colab": {
          "base_uri": "https://localhost:8080/"
        },
        "id": "TrqB-gmL3ti-",
        "outputId": "af9f82a3-d285-41a9-a742-95c1f26d33e0"
      },
      "execution_count": 11,
      "outputs": [
        {
          "output_type": "stream",
          "name": "stdout",
          "text": [
            "Chidinma Onyejiuwa\n",
            "Omid Rahmani\n"
          ]
        }
      ]
    },
    {
      "cell_type": "markdown",
      "source": [
        "####Q5 Check if \"Sarah\" is in the list"
      ],
      "metadata": {
        "id": "pf-t_OTf3tuy"
      }
    },
    {
      "cell_type": "code",
      "source": [
        "if 'Sarah' in Group6_list:\n",
        "    print(\"Sarah is in the list\")\n",
        "else:\n",
        "    print(\"Sarah is not in the list\")\n"
      ],
      "metadata": {
        "colab": {
          "base_uri": "https://localhost:8080/"
        },
        "id": "0pcv2N5E3t6T",
        "outputId": "07e08a18-5643-4776-e4a0-33fa71933897"
      },
      "execution_count": 12,
      "outputs": [
        {
          "output_type": "stream",
          "name": "stdout",
          "text": [
            "Sarah is not in the list\n"
          ]
        }
      ]
    },
    {
      "cell_type": "markdown",
      "source": [
        "####Q6 Add \"Sarah\" to your list"
      ],
      "metadata": {
        "id": "okUAW6rX6ycO"
      }
    },
    {
      "cell_type": "code",
      "source": [
        "Group6_list.append('Sarah')\n",
        "\n",
        "print(Group6_list)"
      ],
      "metadata": {
        "colab": {
          "base_uri": "https://localhost:8080/"
        },
        "id": "dSK4VJ4r6ynD",
        "outputId": "28ed75c0-cef9-4f48-9ded-5e74ae798771"
      },
      "execution_count": 13,
      "outputs": [
        {
          "output_type": "stream",
          "name": "stdout",
          "text": [
            "['Lakshmi Kadali', 'Angie Zhou', 'Pallavi Shinde', 'Chidinma Onyejiuwa', 'Juhi Shaw', 'Omid Rahmani', 'Tanudeep Kaur', 'Sarah']\n"
          ]
        }
      ]
    },
    {
      "cell_type": "markdown",
      "source": [
        "####Q7 Check if \"Bashir\" is in the list"
      ],
      "metadata": {
        "id": "qlqzAavZ6yxq"
      }
    },
    {
      "cell_type": "code",
      "source": [
        "if 'Bashir' in Group6_list:\n",
        "    print(\"Bashir is in the list\")\n",
        "else:\n",
        "    print(\"Bashir is not in the list\")"
      ],
      "metadata": {
        "colab": {
          "base_uri": "https://localhost:8080/"
        },
        "id": "QZcewtR46y6q",
        "outputId": "46ef412a-1470-486d-a792-3de6066c35aa"
      },
      "execution_count": 14,
      "outputs": [
        {
          "output_type": "stream",
          "name": "stdout",
          "text": [
            "Bashir is not in the list\n"
          ]
        }
      ]
    },
    {
      "cell_type": "markdown",
      "source": [
        "####Q9 Add \"Bashir\" to your list"
      ],
      "metadata": {
        "id": "3297hiDE6zF7"
      }
    },
    {
      "cell_type": "code",
      "source": [
        "Group6_list.append('Bashir')\n",
        "\n",
        "print(Group6_list)"
      ],
      "metadata": {
        "colab": {
          "base_uri": "https://localhost:8080/"
        },
        "id": "aSDanWqC6zPi",
        "outputId": "bb116ac3-d002-4fe4-c94f-547d2b42b2c2"
      },
      "execution_count": 15,
      "outputs": [
        {
          "output_type": "stream",
          "name": "stdout",
          "text": [
            "['Lakshmi Kadali', 'Angie Zhou', 'Pallavi Shinde', 'Chidinma Onyejiuwa', 'Juhi Shaw', 'Omid Rahmani', 'Tanudeep Kaur', 'Sarah', 'Bashir']\n"
          ]
        }
      ]
    },
    {
      "cell_type": "markdown",
      "source": [
        "####Q10 Find the index of the element \"Sarah\" in the list"
      ],
      "metadata": {
        "id": "53b05KrY7od7"
      }
    },
    {
      "cell_type": "code",
      "source": [
        "sarah_index = Group6_list.index('Sarah')\n",
        "print(sarah_index)"
      ],
      "metadata": {
        "colab": {
          "base_uri": "https://localhost:8080/"
        },
        "id": "MWHFgKvN7otU",
        "outputId": "66907878-922c-4b03-881f-cd19268a0750"
      },
      "execution_count": 16,
      "outputs": [
        {
          "output_type": "stream",
          "name": "stdout",
          "text": [
            "7\n"
          ]
        }
      ]
    },
    {
      "cell_type": "markdown",
      "source": [
        "####Q11 Change the value of the index in Q10 from \"Sarah\" to \"Instructor\""
      ],
      "metadata": {
        "id": "Uq1W5CKj7o5i"
      }
    },
    {
      "cell_type": "code",
      "source": [
        "# Change the value of index 7 to \"Instructor\"\n",
        "Group6_list[7] = \"Instructor\"\n",
        "\n",
        "# Print the updated list\n",
        "print(Group6_list)"
      ],
      "metadata": {
        "colab": {
          "base_uri": "https://localhost:8080/"
        },
        "id": "RxmEFts47pDQ",
        "outputId": "264451e3-0f1d-47c5-847f-66133465f51a"
      },
      "execution_count": 17,
      "outputs": [
        {
          "output_type": "stream",
          "name": "stdout",
          "text": [
            "['Lakshmi Kadali', 'Angie Zhou', 'Pallavi Shinde', 'Chidinma Onyejiuwa', 'Juhi Shaw', 'Omid Rahmani', 'Tanudeep Kaur', 'Instructor', 'Bashir']\n"
          ]
        }
      ]
    },
    {
      "cell_type": "markdown",
      "source": [
        "####Q12 Find the index of the element \"Bashir\" in the list"
      ],
      "metadata": {
        "id": "XKJJXV-F7pNo"
      }
    },
    {
      "cell_type": "code",
      "source": [
        "bashir_index = Group6_list.index('Bashir')\n",
        "print(bashir_index)"
      ],
      "metadata": {
        "colab": {
          "base_uri": "https://localhost:8080/"
        },
        "id": "DeczSnGQ7pZ1",
        "outputId": "0cf8fec1-a7ee-44e5-c3c4-b4376c260c45"
      },
      "execution_count": 18,
      "outputs": [
        {
          "output_type": "stream",
          "name": "stdout",
          "text": [
            "8\n"
          ]
        }
      ]
    },
    {
      "cell_type": "markdown",
      "source": [
        "####Q13 Change the value of the index in Q12 from \"Bashir\" to \"Peer-Mentor\""
      ],
      "metadata": {
        "id": "DYk6u3vr9Cxm"
      }
    },
    {
      "cell_type": "code",
      "source": [
        "# Change the value of index 8 to \"Peer-Mentor\"\n",
        "Group6_list[8] = \"Peer-Mentor\"\n",
        "\n",
        "# Print the updated list\n",
        "print(Group6_list)"
      ],
      "metadata": {
        "colab": {
          "base_uri": "https://localhost:8080/"
        },
        "id": "pDrDSOzc9C8R",
        "outputId": "8baa1958-1906-432f-c519-a1f05180dba0"
      },
      "execution_count": 19,
      "outputs": [
        {
          "output_type": "stream",
          "name": "stdout",
          "text": [
            "['Lakshmi Kadali', 'Angie Zhou', 'Pallavi Shinde', 'Chidinma Onyejiuwa', 'Juhi Shaw', 'Omid Rahmani', 'Tanudeep Kaur', 'Instructor', 'Peer-Mentor']\n"
          ]
        }
      ]
    }
  ]
}