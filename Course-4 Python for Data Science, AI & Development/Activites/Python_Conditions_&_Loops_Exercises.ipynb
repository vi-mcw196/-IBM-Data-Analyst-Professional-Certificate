{
  "nbformat": 4,
  "nbformat_minor": 0,
  "metadata": {
    "colab": {
      "provenance": []
    },
    "kernelspec": {
      "name": "python3",
      "display_name": "Python 3"
    },
    "language_info": {
      "name": "python"
    }
  },
  "cells": [
    {
      "cell_type": "markdown",
      "source": [
        "#####Q1 Given two integer numbers. If any of the numbers are greater than 50 return t\n",
        "#### number1=20\n",
        "#### number2=40\n"
      ],
      "metadata": {
        "id": "Z1zkJxirpxAe"
      }
    },
    {
      "cell_type": "code",
      "execution_count": null,
      "metadata": {
        "colab": {
          "base_uri": "https://localhost:8080/"
        },
        "id": "mvbwIY77a4_m",
        "outputId": "8324c6bb-2ef9-42e1-de65-c0cbec381c91"
      },
      "outputs": [
        {
          "output_type": "stream",
          "name": "stdout",
          "text": [
            "Neither is greater than 50\n"
          ]
        }
      ],
      "source": [
        "number1=20\n",
        "number2=40\n",
        "if(number1>50):\n",
        "    print(\"{} is greatest\".format(number1))\n",
        "elif(number2>50):\n",
        "    print(\"{} is greatest\".format(number2))\n",
        "else:\n",
        "    print(\"Neither is greater than 50\".format(number1,number2))\n"
      ]
    },
    {
      "cell_type": "code",
      "source": [
        "#another code for Q1\n",
        "number1=20\n",
        "number2=40\n",
        "if number1>50 or number2>50:\n",
        "  print(\"t\")\n"
      ],
      "metadata": {
        "id": "umbIFbK08-I-"
      },
      "execution_count": null,
      "outputs": []
    },
    {
      "cell_type": "markdown",
      "source": [
        "####Q2 Given a list of numbers, return True if first and last number of a list is same\n",
        "####list=[1,2,5,4,1]\n",
        "\n",
        "####list1=[1,2,5,4,1]\n"
      ],
      "metadata": {
        "id": "-BUDn7mtp4j9"
      }
    },
    {
      "cell_type": "code",
      "source": [
        "list = [1,2,5,4,1]\n",
        "if list[0] == list[-1]:\n",
        "    print('True')\n",
        "else:\n",
        "    print('False')\n"
      ],
      "metadata": {
        "colab": {
          "base_uri": "https://localhost:8080/"
        },
        "id": "CEf4gRP-rkJ_",
        "outputId": "2fe026b2-b084-4792-d742-f5b3b9da88d7"
      },
      "execution_count": null,
      "outputs": [
        {
          "output_type": "stream",
          "name": "stdout",
          "text": [
            "True\n"
          ]
        }
      ]
    },
    {
      "cell_type": "markdown",
      "source": [
        "####Q3 Given a range of the first 10 numbers[1:10], Iterate from the start number to last number\n",
        "####and In each iteration print the sum of the current number and previous number\n"
      ],
      "metadata": {
        "id": "M5_5I7s2qFCv"
      }
    },
    {
      "cell_type": "code",
      "source": [
        "numbers = [1,2,3,4,5,6,7,8,9,10]\n",
        "num1 = 0\n",
        "for i in numbers:\n",
        "    sum = num1 + i\n",
        "    print('Sum of Current Number '+ str(i) + ' and Previous Number ' + str(num1) + ' is ' + str(sum))\n",
        "    num1=i\n"
      ],
      "metadata": {
        "colab": {
          "base_uri": "https://localhost:8080/"
        },
        "id": "TPua_po1y6rG",
        "outputId": "d71182c6-f8f4-47fc-bb3d-ca8a493366b6"
      },
      "execution_count": null,
      "outputs": [
        {
          "output_type": "stream",
          "name": "stdout",
          "text": [
            "Sum of Current Number 1 and Previous Number 0 is 1\n",
            "Sum of Current Number 2 and Previous Number 1 is 3\n",
            "Sum of Current Number 3 and Previous Number 2 is 5\n",
            "Sum of Current Number 4 and Previous Number 3 is 7\n",
            "Sum of Current Number 5 and Previous Number 4 is 9\n",
            "Sum of Current Number 6 and Previous Number 5 is 11\n",
            "Sum of Current Number 7 and Previous Number 6 is 13\n",
            "Sum of Current Number 8 and Previous Number 7 is 15\n",
            "Sum of Current Number 9 and Previous Number 8 is 17\n",
            "Sum of Current Number 10 and Previous Number 9 is 19\n"
          ]
        }
      ]
    },
    {
      "cell_type": "code",
      "source": [
        "numbers = list(range(1, 11))\n",
        "\n",
        "for i in range(len(numbers)):\n",
        "    if i == 0:\n",
        "        print(\"The current number is\", numbers[i])\n",
        "    else:\n",
        "        print(\"The Sum of the current number\", numbers[i], \"and the previous number\", numbers[i-1], \"is\", numbers[i] + numbers[i-1])\n"
      ],
      "metadata": {
        "colab": {
          "base_uri": "https://localhost:8080/",
          "height": 235
        },
        "id": "CokTjl5UrlRE",
        "outputId": "bb18798e-1237-4d9d-c498-2986193a9444"
      },
      "execution_count": null,
      "outputs": [
        {
          "output_type": "error",
          "ename": "TypeError",
          "evalue": "ignored",
          "traceback": [
            "\u001b[0;31m---------------------------------------------------------------------------\u001b[0m",
            "\u001b[0;31mTypeError\u001b[0m                                 Traceback (most recent call last)",
            "\u001b[0;32m<ipython-input-16-353d8aa8c8fd>\u001b[0m in \u001b[0;36m<module>\u001b[0;34m\u001b[0m\n\u001b[0;32m----> 1\u001b[0;31m \u001b[0mnumbers\u001b[0m \u001b[0;34m=\u001b[0m \u001b[0mlist\u001b[0m\u001b[0;34m(\u001b[0m\u001b[0mrange\u001b[0m\u001b[0;34m(\u001b[0m\u001b[0;36m1\u001b[0m\u001b[0;34m,\u001b[0m \u001b[0;36m11\u001b[0m\u001b[0;34m)\u001b[0m\u001b[0;34m)\u001b[0m\u001b[0;34m\u001b[0m\u001b[0;34m\u001b[0m\u001b[0m\n\u001b[0m\u001b[1;32m      2\u001b[0m \u001b[0;34m\u001b[0m\u001b[0m\n\u001b[1;32m      3\u001b[0m \u001b[0;32mfor\u001b[0m \u001b[0mi\u001b[0m \u001b[0;32min\u001b[0m \u001b[0mrange\u001b[0m\u001b[0;34m(\u001b[0m\u001b[0mlen\u001b[0m\u001b[0;34m(\u001b[0m\u001b[0mnumbers\u001b[0m\u001b[0;34m)\u001b[0m\u001b[0;34m)\u001b[0m\u001b[0;34m:\u001b[0m\u001b[0;34m\u001b[0m\u001b[0;34m\u001b[0m\u001b[0m\n\u001b[1;32m      4\u001b[0m     \u001b[0;32mif\u001b[0m \u001b[0mi\u001b[0m \u001b[0;34m==\u001b[0m \u001b[0;36m0\u001b[0m\u001b[0;34m:\u001b[0m\u001b[0;34m\u001b[0m\u001b[0;34m\u001b[0m\u001b[0m\n\u001b[1;32m      5\u001b[0m         \u001b[0mprint\u001b[0m\u001b[0;34m(\u001b[0m\u001b[0;34m\"The current number is\"\u001b[0m\u001b[0;34m,\u001b[0m \u001b[0mnumbers\u001b[0m\u001b[0;34m[\u001b[0m\u001b[0mi\u001b[0m\u001b[0;34m]\u001b[0m\u001b[0;34m)\u001b[0m\u001b[0;34m\u001b[0m\u001b[0;34m\u001b[0m\u001b[0m\n",
            "\u001b[0;31mTypeError\u001b[0m: 'list' object is not callable"
          ]
        }
      ]
    },
    {
      "cell_type": "markdown",
      "source": [
        "####Q4 Given a string name, display only those characters which are present at an even\n",
        "####name=\"NPowerCanada\"\n"
      ],
      "metadata": {
        "id": "zV0XYGpdqOJN"
      }
    },
    {
      "cell_type": "code",
      "source": [
        "name = \"NPowerCanada\"\n",
        "\n",
        "# Use a for loop to iterate over each character in the string\n",
        "for i in range(len(name)):\n",
        "    # Check if the index of the character is even\n",
        "    if i % 2 == 0:\n",
        "        # If the index of the character is even, print the character\n",
        "        print(name[i], end=\"\")\n"
      ],
      "metadata": {
        "colab": {
          "base_uri": "https://localhost:8080/"
        },
        "id": "Yz1ndXhJrlz8",
        "outputId": "78ab2c8b-840a-4e96-e2db-934ffac3f68a"
      },
      "execution_count": null,
      "outputs": [
        {
          "output_type": "stream",
          "name": "stdout",
          "text": [
            "NoeCnd"
          ]
        }
      ]
    },
    {
      "cell_type": "code",
      "source": [],
      "metadata": {
        "id": "vP6hTGfvcFhS"
      },
      "execution_count": null,
      "outputs": []
    },
    {
      "cell_type": "markdown",
      "source": [
        "####Q5 Given a string oldString and an integer number n,\n",
        "####remove characters from a string starting from zero up to n and return a newStrin\n",
        "####oldString=\"PythonCourse\"\n",
        "####n=6\n"
      ],
      "metadata": {
        "id": "s6oUQwz-qThP"
      }
    },
    {
      "cell_type": "code",
      "source": [
        "oldString = 'PythonCourse'\n",
        "n = 6\n",
        " \n",
        "#print the old string first\n",
        "print(\"Old String is: \", oldString)\n",
        " \n",
        "#Removing n characters from old_string \n",
        "result = ''\n",
        "for i in range(0, len(oldString)):\n",
        "    if i >= n:\n",
        "        result = result + oldString[i]\n",
        " \n",
        "#print the new String\n",
        "print(\"New String is: \", result)"
      ],
      "metadata": {
        "colab": {
          "base_uri": "https://localhost:8080/"
        },
        "id": "In2ZSwvzrmcV",
        "outputId": "ba1a1256-3de4-4f6b-f0bb-c85ec67b409e"
      },
      "execution_count": null,
      "outputs": [
        {
          "output_type": "stream",
          "name": "stdout",
          "text": [
            "Old String is:  PythonCourse\n",
            "New String is:  Course\n"
          ]
        }
      ]
    },
    {
      "cell_type": "code",
      "source": [
        "oldString = 'PythonCourse'\n",
        "n = 6\n",
        "\n",
        "newString = oldString[n:]\n",
        "newString"
      ],
      "metadata": {
        "colab": {
          "base_uri": "https://localhost:8080/",
          "height": 35
        },
        "id": "q6vh1KnEcPgR",
        "outputId": "b9852731-9d95-4841-acc0-5975934ffba2"
      },
      "execution_count": null,
      "outputs": [
        {
          "output_type": "execute_result",
          "data": {
            "text/plain": [
              "'Course'"
            ],
            "application/vnd.google.colaboratory.intrinsic+json": {
              "type": "string"
            }
          },
          "metadata": {},
          "execution_count": 28
        }
      ]
    },
    {
      "cell_type": "markdown",
      "source": [
        "####Q6 Print the follwoing pattern\n",
        "####*\n",
        "####**\n",
        "####***\n",
        "####****"
      ],
      "metadata": {
        "id": "pNORAPBgqW93"
      }
    },
    {
      "cell_type": "code",
      "source": [
        "# number of rows\n",
        "rows = 4\n",
        "for i in range(0, rows):\n",
        "    # nested loop for each column\n",
        "    for j in range(0, i + 1):\n",
        "        # print star\n",
        "        print(\"*\", end='')\n",
        "    # new line after each row\n",
        "    print(\"\\r\")"
      ],
      "metadata": {
        "colab": {
          "base_uri": "https://localhost:8080/"
        },
        "id": "b7MrLgRN5TqJ",
        "outputId": "49d7d467-0f60-44fa-b86b-7cc773abba5a"
      },
      "execution_count": null,
      "outputs": [
        {
          "output_type": "stream",
          "name": "stdout",
          "text": [
            "*\r\n",
            "**\r\n",
            "***\r\n",
            "****\r\n"
          ]
        }
      ]
    },
    {
      "cell_type": "code",
      "source": [
        "for i in range(1,5):\n",
        "  print('*' * i)"
      ],
      "metadata": {
        "colab": {
          "base_uri": "https://localhost:8080/"
        },
        "id": "JRZ-MiN6c9Ph",
        "outputId": "dcbe4754-2dde-4f02-a64a-f73331ce34bd"
      },
      "execution_count": null,
      "outputs": [
        {
          "output_type": "stream",
          "name": "stdout",
          "text": [
            "*\n",
            "**\n",
            "***\n",
            "****\n"
          ]
        }
      ]
    },
    {
      "cell_type": "markdown",
      "source": [
        "####Q7 Reverse the following list using for loop\n",
        "####list1=[90,70,50,60]"
      ],
      "metadata": {
        "id": "XxrCu4ZYqf2a"
      }
    },
    {
      "cell_type": "code",
      "source": [
        "list1 = [90, 70, 50, 60]\n",
        "reversed_list = []\n",
        "\n",
        "for i in range(len(list1)-1, -1, -1):\n",
        "    reversed_list.append(list1[i])\n",
        "\n",
        "print(reversed_list)\n"
      ],
      "metadata": {
        "colab": {
          "base_uri": "https://localhost:8080/"
        },
        "id": "FV_WdtL9rn7M",
        "outputId": "8c12b02b-6afb-4a75-d49a-32e0bd4c292b"
      },
      "execution_count": null,
      "outputs": [
        {
          "output_type": "stream",
          "name": "stdout",
          "text": [
            "[60, 50, 70, 90]\n"
          ]
        }
      ]
    },
    {
      "cell_type": "markdown",
      "source": [
        "####Q8 Display numbers from -10 to -1 using for loop [hint use range method]"
      ],
      "metadata": {
        "id": "l6KeJ8qUqjTW"
      }
    },
    {
      "cell_type": "code",
      "source": [
        "for i in range(-10, 0):\n",
        "    print(i)\n"
      ],
      "metadata": {
        "colab": {
          "base_uri": "https://localhost:8080/"
        },
        "id": "m3wlXAu4rorN",
        "outputId": "d2c4c7b5-1c6c-424e-c724-63f3d2e8850c"
      },
      "execution_count": null,
      "outputs": [
        {
          "output_type": "stream",
          "name": "stdout",
          "text": [
            "-10\n",
            "-9\n",
            "-8\n",
            "-7\n",
            "-6\n",
            "-5\n",
            "-4\n",
            "-3\n",
            "-2\n",
            "-1\n"
          ]
        }
      ]
    }
  ]
}